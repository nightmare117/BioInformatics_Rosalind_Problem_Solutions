{
  "nbformat": 4,
  "nbformat_minor": 0,
  "metadata": {
    "colab": {
      "provenance": []
    },
    "kernelspec": {
      "name": "python3",
      "display_name": "Python 3"
    },
    "language_info": {
      "name": "python"
    }
  },
  "cells": [
    {
      "cell_type": "markdown",
      "source": [
        "# **BA5A:** Find the Minimum Number of Coins Needed to Make Change\n",
        "Find the minimum number of coins needed to make change."
      ],
      "metadata": {
        "id": "Lt6BYB6Wo6AR"
      }
    },
    {
      "cell_type": "code",
      "execution_count": 3,
      "metadata": {
        "colab": {
          "base_uri": "https://localhost:8080/"
        },
        "id": "ePmY-nImokDW",
        "outputId": "6c53a3cc-8235-43c1-d862-a5b9d0c97214"
      },
      "outputs": [
        {
          "output_type": "execute_result",
          "data": {
            "text/plain": [
              "2"
            ]
          },
          "metadata": {},
          "execution_count": 3
        }
      ],
      "source": [
        "import sys\n",
        "\n",
        "def min_coin(n,arr):\n",
        "  arr.sort()\n",
        "  dp = [sys.maxsize]*(n+1)\n",
        "  dp[0] = 0\n",
        "  for i in arr:\n",
        "    if(i<=n):\n",
        "      dp[i]=1\n",
        "    else:\n",
        "      arr = [p for p in arr if p!=i]\n",
        "\n",
        "  for i in range(1,n+1):\n",
        "    for item in arr:\n",
        "      if i-item>=0:\n",
        "        dp[i]=min(dp[i],dp[i-item]+1)\n",
        "  return dp[n]\n",
        "\n",
        "n = 40\n",
        "arr = [1,5,10,20,25,50]\n",
        "min_coin(n,arr)"
      ]
    },
    {
      "cell_type": "code",
      "source": [
        "# 18499\n",
        "# 1,3,5,15\n",
        "# with open('index.txt','r') as f:\n",
        "#   s = f.readlines()\n",
        "#   n = s[0].strip()\n",
        "#   n = int(n)\n",
        "#   arr1 = s[1].strip().split(',')\n",
        "#   arr1 = [int(p) for p in arr1]\n",
        "\n",
        "# min_coin(n,arr1)\n"
      ],
      "metadata": {
        "id": "P6krIhpFskzD"
      },
      "execution_count": 4,
      "outputs": []
    },
    {
      "cell_type": "markdown",
      "source": [
        "# **BA5C:** Find a Longest Common Subsequence of Two Strings\n",
        "\n",
        "Longest Common Subsequence Problem"
      ],
      "metadata": {
        "id": "Yo2v02Fr6jqs"
      }
    },
    {
      "cell_type": "code",
      "source": [
        "def get_LCS(str1,str2):\n",
        "  dp = []\n",
        "\n",
        "  def LCS(n,m,str1,str2):\n",
        "    x = 0\n",
        "    if dp[n][m] != -100:\n",
        "      return dp[n][m]\n",
        "\n",
        "    if n==0 or m==0:\n",
        "      if str1[n] == str2[m]:\n",
        "        return str1[n]\n",
        "      else:\n",
        "        return \"\"\n",
        "    if str1[n]==str2[m]:\n",
        "      x = LCS(n-1,m-1,str1,str2)+str1[n]\n",
        "    else:\n",
        "      option1 = LCS(n-1,m,str1,str2)\n",
        "      option2 = LCS(n,m-1,str1,str2)\n",
        "      x = option1 if len(option1)>len(option2) else option2\n",
        "    dp[n][m] = x\n",
        "    return dp[n][m]\n",
        "\n",
        "  n = len(str1)\n",
        "  m = len(str2)\n",
        "  for i in range(n+1):\n",
        "    dp.append([-100]*(m+1))\n",
        "\n",
        "  p = LCS(n-1,m-1,str1,str2)\n",
        "\n",
        "  return p\n",
        "\n",
        "\n",
        "str1 = \"AACCTTGG\"\n",
        "str2 = \"ACACTGTGA\"\n",
        "get_LCS(str1,str2)"
      ],
      "metadata": {
        "colab": {
          "base_uri": "https://localhost:8080/",
          "height": 35
        },
        "id": "WEx7xvbW6_et",
        "outputId": "cf2a2182-4d58-4825-d205-4c34f6fdcf86"
      },
      "execution_count": 5,
      "outputs": [
        {
          "output_type": "execute_result",
          "data": {
            "text/plain": [
              "'ACCTGG'"
            ],
            "application/vnd.google.colaboratory.intrinsic+json": {
              "type": "string"
            }
          },
          "metadata": {},
          "execution_count": 5
        }
      ]
    },
    {
      "cell_type": "markdown",
      "source": [
        "# **BA5D:** Find the Longest Path in a DAG\n",
        "Find a longest path between two nodes in an edge-weighted DAG.\n"
      ],
      "metadata": {
        "id": "KFoCwyBBJZ-G"
      }
    },
    {
      "cell_type": "code",
      "source": [
        "def dag(start,end,edges):\n",
        "\n",
        "  def dfs(node,edges):\n",
        "    if node == end:\n",
        "      return 0,[node]\n",
        "    s = 0\n",
        "    max_path=[]\n",
        "    for i in edges:\n",
        "      if i[0] == node:\n",
        "        st,path = dfs(i[1],edges)\n",
        "        t = i[2] + st\n",
        "        if t>s:\n",
        "          s = t\n",
        "          max_path = path\n",
        "    return s,[node]+max_path\n",
        "\n",
        "  s,p = dfs(start,edges)\n",
        "\n",
        "  return s,p\n",
        "\n",
        "start = 0\n",
        "end  = 4\n",
        "edges = [[0,1,7],[0,2,4],[2,3,2],[1,4,1],[3,4,3]]\n",
        "weight,p = dag(start,end,edges)\n",
        "\n",
        "print(weight)\n",
        "p = [str(sp) for sp in p ]\n",
        "print(\"->\".join(p))\n"
      ],
      "metadata": {
        "colab": {
          "base_uri": "https://localhost:8080/"
        },
        "id": "dv5-Fa5CJrYF",
        "outputId": "1ce389c4-0220-4699-ca31-dd73fcc1fbfb"
      },
      "execution_count": 6,
      "outputs": [
        {
          "output_type": "stream",
          "name": "stdout",
          "text": [
            "9\n",
            "0->2->3->4\n"
          ]
        }
      ]
    },
    {
      "cell_type": "markdown",
      "source": [
        "# **BA5G: Compute the Edit Distance Between Two Strings**\n",
        "\n",
        "In 1966, Vladimir Levenshtein introduced the notion of the edit distance between two strings as the minimum number of edit operations needed to transform one string into another. Here, an edit operation is the insertion, deletion, or substitution of a single symbol. For example, TGCATAT can be transformed into ATCCGAT with five edit operations, implying that the edit distance between these strings is at most 5."
      ],
      "metadata": {
        "id": "qS3xk2RAU2hu"
      }
    },
    {
      "cell_type": "code",
      "source": [
        "def min_edit_distance(str1,str2):\n",
        "  n = len(str1)\n",
        "  m = len(str2)\n",
        "  dp = []\n",
        "  for i in range(n+1):\n",
        "    s = [0]*(m+1)\n",
        "    dp.append(s)\n",
        "\n",
        "  for i in range(n+1):\n",
        "    dp[i][0]=i\n",
        "  for i in range(m+1):\n",
        "    dp[0][i]=i\n",
        "  str1 = \"2\"+str1\n",
        "  str2=\"1\"+str2\n",
        "  for i in range(1,n+1):\n",
        "    for j in range(1,m+1):\n",
        "      t = dp[i-1][j-1]\n",
        "      if str1[i]==str2[j]:\n",
        "        dp[i][j]= t\n",
        "      else:\n",
        "        s = min(dp[i][j-1],dp[i-1][j])\n",
        "        dp[i][j] = min(s,t)+1\n",
        "  return dp[n][m]\n",
        "\n",
        "a = \"PLEASANTLY\"\n",
        "b = \"MEANLY\"\n",
        "min_edit_distance(a,b)"
      ],
      "metadata": {
        "colab": {
          "base_uri": "https://localhost:8080/"
        },
        "id": "k1HoJiwDU2Fc",
        "outputId": "0e9a0b36-0f7e-40df-bb8b-c38d9ac6c889"
      },
      "execution_count": 7,
      "outputs": [
        {
          "output_type": "execute_result",
          "data": {
            "text/plain": [
              "5"
            ]
          },
          "metadata": {},
          "execution_count": 7
        }
      ]
    }
  ]
}