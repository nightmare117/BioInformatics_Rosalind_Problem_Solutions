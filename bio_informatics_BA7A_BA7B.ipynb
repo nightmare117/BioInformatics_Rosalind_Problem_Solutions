{
  "nbformat": 4,
  "nbformat_minor": 0,
  "metadata": {
    "colab": {
      "provenance": []
    },
    "kernelspec": {
      "name": "python3",
      "display_name": "Python 3"
    },
    "language_info": {
      "name": "python"
    }
  },
  "cells": [
    {
      "cell_type": "markdown",
      "source": [
        "# **BA7A:** Compute Distances Between Leaves\n",
        "In this chapter, we define the length of a path in a tree as the sum of the lengths of its edges (rather than the number of edges on the path). As a result, the evolutionary distance between two present-day species corresponding to leaves i and j in a tree T is equal to the length of the unique path connecting i and j, denoted di, j(T)."
      ],
      "metadata": {
        "id": "sGz4iHl3KYR0"
      }
    },
    {
      "cell_type": "code",
      "execution_count": null,
      "metadata": {
        "colab": {
          "base_uri": "https://localhost:8080/"
        },
        "id": "aBsD5jwKKVc5",
        "outputId": "7c6fb29c-204f-4406-c861-a66ba8b5e6ef"
      },
      "outputs": [
        {
          "output_type": "stream",
          "name": "stdout",
          "text": [
            "0 13 21 22 \n",
            "13 0 12 13 \n",
            "21 12 0 13 \n",
            "22 13 13 0 \n"
          ]
        }
      ],
      "source": [
        "import sys\n",
        "\n",
        "dp= []\n",
        "n =4\n",
        "for i in range(25):\n",
        "  dp.append([1231231]*25)\n",
        "\n",
        "for i in range(25):\n",
        "  dp[i][i]=0\n",
        "\n",
        "dp[0][4]=11\n",
        "dp[1][4]=2\n",
        "dp[2][5]=6\n",
        "dp[3][5]=7\n",
        "dp[4][0]=11\n",
        "dp[4][1]=2\n",
        "dp[4][5]=4\n",
        "dp[5][4]=4\n",
        "dp[5][3]=7\n",
        "dp[5][2]=6\n",
        "\n",
        "for k in range(6):\n",
        "  for i in range(6):\n",
        "    for j in range(6):\n",
        "      dp[i][j]=min(dp[i][j],dp[i][k]+dp[k][j])\n",
        "\n",
        "for i in range(4):\n",
        "  for j in range(4):\n",
        "    print(dp[i][j],end=\" \")\n",
        "  print()"
      ]
    },
    {
      "cell_type": "markdown",
      "source": [
        "# **BA7B:** Compute Limb Lengths in a Tree\n",
        "\n",
        "Find the limb length for a leaf in a tree."
      ],
      "metadata": {
        "id": "F3iQJxpwT8cY"
      }
    },
    {
      "cell_type": "code",
      "source": [
        "dp = [[0,   13,  21,  22],\n",
        "      [13,  0,  12,  13],\n",
        "      [21,  12,  0,   13],\n",
        "      [22,  13,  13,  0]]\n",
        "\n",
        "n= 4\n",
        "j =1\n",
        "\n",
        "#(i->j->k) - (1-k)\n",
        "\n",
        "def limb_length(n,j,dp):\n",
        "  m = sys.maxsize\n",
        "  for i in range(n):\n",
        "    for k in range(n):\n",
        "      if i!=j and j!=k and i!=k:\n",
        "        temp = (dp[i][j]+dp[j][k]-dp[i][k])/2\n",
        "        m = min(m,temp)\n",
        "  return round(m)\n",
        "\n",
        "\n",
        "limb_length(n,j,dp)"
      ],
      "metadata": {
        "colab": {
          "base_uri": "https://localhost:8080/"
        },
        "id": "D-_rpkCjUTyg",
        "outputId": "e109730d-8d20-4e1f-ad35-bcb9f6fc0cfa"
      },
      "execution_count": null,
      "outputs": [
        {
          "output_type": "execute_result",
          "data": {
            "text/plain": [
              "2"
            ]
          },
          "metadata": {},
          "execution_count": 8
        }
      ]
    }
  ]
}