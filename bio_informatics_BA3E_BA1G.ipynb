{
  "nbformat": 4,
  "nbformat_minor": 0,
  "metadata": {
    "colab": {
      "provenance": []
    },
    "kernelspec": {
      "name": "python3",
      "display_name": "Python 3"
    },
    "language_info": {
      "name": "python"
    }
  },
  "cells": [
    {
      "cell_type": "markdown",
      "source": [
        "# **BA3E:** Construct the De Bruijn Graph of a Collection of k-mers\n",
        "Given an arbitrary collection of k-mers Patterns (where some k-mers may appear multiple times), we define CompositionGraph(Patterns) as a graph with |Patterns| isolated edges. Every edge is labeled by a k-mer from Patterns, and the starting and ending nodes of an edge are labeled by the prefix and suffix of the k-mer labeling that edge. We then define the de Bruijn graph of Patterns, denoted DeBruijn(Patterns), by gluing identically labeled nodes in CompositionGraph(Patterns), which yields the following algorithm.\n",
        "\n",
        "\n",
        "\n",
        "```\n",
        "  DEBRUIJN(Patterns)\n",
        "        represent every k-mer in Patterns as an isolated edge between its prefix and suffix\n",
        "        glue all nodes with identical labels, yielding the graph DeBruijn(Patterns)\n",
        "        return DeBruijn(Patterns)\n",
        "```\n",
        "\n"
      ],
      "metadata": {
        "id": "NLMmQGnWav5N"
      }
    },
    {
      "cell_type": "code",
      "execution_count": null,
      "metadata": {
        "id": "LDnQkTpxaXYM",
        "colab": {
          "base_uri": "https://localhost:8080/"
        },
        "outputId": "62480d70-a7d7-43aa-9d54-6b9f43cd8c7b"
      },
      "outputs": [
        {
          "output_type": "stream",
          "name": "stdout",
          "text": [
            "AGG -> GGG\n",
            "CAG -> AGG,AGG\n",
            "GAG -> AGG\n",
            "GGA -> GAG\n",
            "GGG -> GGA,GGG\n"
          ]
        }
      ],
      "source": [
        "def de_brujin(k_mers):\n",
        "  mp = {}\n",
        "  for item in k_mers:\n",
        "    p= item[0:len(item)-1]\n",
        "    s = item[1:len(item)]\n",
        "    if p in mp:\n",
        "      mp[p].append(s)\n",
        "    else:\n",
        "      mp[p] = []\n",
        "      mp[p].append(s)\n",
        "\n",
        "  for item,v in sorted(mp.items()):\n",
        "    print(item + ' -> ',end=\"\")\n",
        "    v.sort()\n",
        "    for i in range(len(v)):\n",
        "      if(i==len(v)-1):\n",
        "        print(v[i])\n",
        "      else:\n",
        "        print(v[i]+',',end=\"\")\n",
        "\n",
        "\n",
        "kmers = ['GAGG','CAGG','GGGG','GGGA','CAGG','AGGG','GGAG']\n",
        "de_brujin(kmers)"
      ]
    },
    {
      "cell_type": "code",
      "source": [
        "# kmers = []\n",
        "# with open('index.txt','r') as f:\n",
        "#   for line in f:\n",
        "#     s = line.strip()\n",
        "#     kmers.append(s)\n",
        "# f.close()\n",
        "# de_brujin(kmers)"
      ],
      "metadata": {
        "id": "2TVD1-G0vCGw"
      },
      "execution_count": null,
      "outputs": []
    },
    {
      "cell_type": "markdown",
      "source": [
        "# **BA3F:** Find an Eulerian Path in a Graph\n",
        "In “Find an Eulerian Cycle in a Graph”, we defined an Eulerian cycle. A path that traverses each edge of a graph exactly once (but does not necessarily return to its starting node is called an Eulerian path."
      ],
      "metadata": {
        "id": "npE8mpOmCWXX"
      }
    },
    {
      "cell_type": "code",
      "source": [
        "# def dfs(node,adj_list,vis):\n",
        "#   vis[node] = 1\n",
        "#   for i in range(len(adj_list[node])):\n",
        "#     if vis[adj_list[node][i]]==0:\n",
        "\n",
        "\n",
        "\n",
        "def find_euler_path(adj_list):\n",
        "  ans = []\n",
        "  def dfs(node):\n",
        "    while node in adj_list and adj_list[node]:\n",
        "      curr = adj_list[node].pop()\n",
        "      dfs(curr)\n",
        "    ans.append(node)\n",
        "\n",
        "  in_degree = {}\n",
        "  out_degree = {}\n",
        "  for key,val in adj_list.items():\n",
        "    for v in val:\n",
        "      if key in out_degree:\n",
        "        out_degree[key].append(v)\n",
        "      else:\n",
        "        out_degree[key] = [v]\n",
        "      if v in in_degree:\n",
        "        in_degree[v].append(key)\n",
        "      else:\n",
        "        in_degree[v] = [key]\n",
        "\n",
        "  start_node = None\n",
        "  t = None\n",
        "  for key,v in out_degree.items():\n",
        "    s=0\n",
        "    t = key\n",
        "    if key in in_degree:\n",
        "      s+=len(in_degree[key])+len(out_degree[key])\n",
        "    else:\n",
        "      s+=len(out_degree)\n",
        "    if s%2==1 and start_node==None:\n",
        "      start_node = key\n",
        "      break\n",
        "\n",
        "  if start_node == None:\n",
        "    start_node = t\n",
        "\n",
        "  # print(start_node)\n",
        "  dfs(start_node)\n",
        "  ans.reverse()\n",
        "  return ans\n",
        "\n",
        "\n",
        "adj_list = {\n",
        "    0:[2],\n",
        "    1:[3],\n",
        "    2:[1],\n",
        "    3:[0,4],\n",
        "    6:[3,7],\n",
        "    7:[8],\n",
        "    8:[9],\n",
        "    9:[6]\n",
        "}\n",
        "\n",
        "k = find_euler_path(adj_list)\n",
        "k = [str(p) for p in k]\n",
        "print('->'.join(k))"
      ],
      "metadata": {
        "colab": {
          "base_uri": "https://localhost:8080/"
        },
        "id": "HogUFQtoCokE",
        "outputId": "eddce1b0-2009-4588-ac4f-7b6d3190bddc"
      },
      "execution_count": 18,
      "outputs": [
        {
          "output_type": "stream",
          "name": "stdout",
          "text": [
            "6->7->8->9->6->3->0->2->1->3->4\n"
          ]
        }
      ]
    }
  ]
}