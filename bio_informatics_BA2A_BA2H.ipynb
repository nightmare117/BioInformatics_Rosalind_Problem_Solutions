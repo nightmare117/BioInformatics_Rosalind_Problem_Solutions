{
  "nbformat": 4,
  "nbformat_minor": 0,
  "metadata": {
    "colab": {
      "provenance": []
    },
    "kernelspec": {
      "name": "python3",
      "display_name": "Python 3"
    },
    "language_info": {
      "name": "python"
    }
  },
  "cells": [
    {
      "cell_type": "code",
      "execution_count": 2,
      "metadata": {
        "colab": {
          "base_uri": "https://localhost:8080/"
        },
        "id": "gleq40TsAjja",
        "outputId": "4893a839-91de-4e78-93e5-1a56810ed0f3"
      },
      "outputs": [
        {
          "output_type": "stream",
          "name": "stdout",
          "text": [
            "Collecting biopython\n",
            "  Downloading biopython-1.81-cp310-cp310-manylinux_2_17_x86_64.manylinux2014_x86_64.whl (3.1 MB)\n",
            "\u001b[2K     \u001b[90m━━━━━━━━━━━━━━━━━━━━━━━━━━━━━━━━━━━━━━━━\u001b[0m \u001b[32m3.1/3.1 MB\u001b[0m \u001b[31m24.5 MB/s\u001b[0m eta \u001b[36m0:00:00\u001b[0m\n",
            "\u001b[?25hRequirement already satisfied: numpy in /usr/local/lib/python3.10/dist-packages (from biopython) (1.23.5)\n",
            "Installing collected packages: biopython\n",
            "Successfully installed biopython-1.81\n"
          ]
        }
      ],
      "source": [
        "!pip install biopython"
      ]
    },
    {
      "cell_type": "markdown",
      "source": [
        "# **BA2A:** Implement MotifEnumeration\n",
        "Given a collection of strings Dna and an integer d, a k-mer is a (k,d)-motif if it appears in every string from Dna with at most d mismatches. The following algorithm finds (k,d)-motifs.\n",
        "```\n",
        " MOTIFENUMERATION(Dna, k, d)\n",
        "        Patterns ← an empty set\n",
        "        for each k-mer Pattern in Dna\n",
        "            for each k-mer Pattern’ differing from Pattern by at most d\n",
        "              mismatches\n",
        "                if Pattern' appears in each string from Dna with at most d\n",
        "                mismatches\n",
        "                    add Pattern' to Patterns\n",
        "        remove duplicates from Patterns\n",
        "        return Patterns\n",
        "\n"
      ],
      "metadata": {
        "id": "9XEtyq4YA-xm"
      }
    },
    {
      "cell_type": "code",
      "source": [
        "from itertools import product\n",
        "\n",
        "def ham_distance(x,y):\n",
        "  c = 0\n",
        "  for i in range(len(x)):\n",
        "    if x[i]!=y[i]:\n",
        "      c = c+1\n",
        "  return c\n",
        "\n",
        "def get_combinations(k):\n",
        "  t = ['A','C','G','T']\n",
        "  combinations = list(product(t,repeat=k)) #creates combiinations of length k\n",
        "  return combinations\n",
        "\n",
        "\n",
        "def motifs(k,d,dna):\n",
        "  patterns = []\n",
        "  combinations = get_combinations(k)\n",
        "  for item in combinations:\n",
        "    str1 = ''.join(item)\n",
        "    count1 = 0\n",
        "    for pattern in dna:\n",
        "      flag = 0\n",
        "      for i in range(len(pattern)-k+1):\n",
        "        p = pattern[i:i+k]\n",
        "        h_dis = ham_distance(p,str1)\n",
        "        if h_dis<=d:\n",
        "          flag =1\n",
        "          break\n",
        "      if flag == 1:\n",
        "        count1 = count1 + 1\n",
        "    if count1 == len(dna):\n",
        "      patterns.append(str1)\n",
        "  return set(patterns)\n",
        "\n",
        "\n",
        "\n",
        "\n",
        "dna = ['ATTTGGC','TGCCTTA','CGGTATC','GAAAATT']\n",
        "motifs(3,1,dna)\n",
        "\n",
        "\n"
      ],
      "metadata": {
        "colab": {
          "base_uri": "https://localhost:8080/"
        },
        "id": "Mf3RMxC8B0Rh",
        "outputId": "9b5b9f95-7e5a-49f9-b74b-67fab3a503ac"
      },
      "execution_count": 3,
      "outputs": [
        {
          "output_type": "execute_result",
          "data": {
            "text/plain": [
              "{'ATA', 'ATT', 'GTT', 'TTT'}"
            ]
          },
          "metadata": {},
          "execution_count": 3
        }
      ]
    },
    {
      "cell_type": "markdown",
      "source": [
        "# **BA2B:** Find a Median String\n",
        "Given a k-mer Pattern and a longer string Text, we use d(Pattern, Text) to denote the minimum Hamming distance between Pattern and any k-mer in Text,\n",
        "![Capture.PNG](data:image/png;base64,iVBORw0KGgoAAAANSUhEUgAAAigAAAAnCAYAAAAlxLN5AAAAAXNSR0IArs4c6QAAAARnQU1BAACxjwv8YQUAAAAJcEhZcwAADsMAAA7DAcdvqGQAACMgSURBVHhe7Z0PXFPn2fd/rRY2ujAtae3iWx9j7cJHZ9RCHouxdsR2hVbFPlXWKjpB16pdKXZFu4J2FbsWbCvaCr6tYFVcKzhr3BR81VApcWJ4i4TJSB8krL5kwyUrJS0ueWTnve5zTiBg+Oe/Mnt/Px/IyZ3z576v+7qv67r/nHNuEghwOBwOh8PhDCJulj85HA6Hw+FwBg08QOFwOBwOhzPo4AEKh8PhcDicQQcPUDgcDofD4Qw6eIDC4XA4HA5n0MEDFA6Hw+FwOIMOHqBwOBwOh8MZdPAAhcPhcDgczqCDBygcDofD4XCunDY3vO3y9lXg2gYobXYUvrgKhWe9cgLnWuM9nY0Fa0vguopKwuFwOFcE9wU3Pl4LsmKiMXWDGb5avlJ/dBUedU+Kl5yOvNM2uNrisKlsDfQhLN0NU9psGKfsxqbZKnFPCS+sWxORedQBW6MbQXdooFZK6Y5aJ9SL1mPDM3qEDRF37pt2Lx0ZhCD//QOlfVOcM2JVWiGa5K+BUWPh6+sR4y+mgeJXZtv2eUh0rsLHqTpK4VwbXCh5fhbSrfHIPZQC3bdd0GSccpZmo9Rhg70FUIzWQBVCev3GSgS9l4y8Kqm9Y5gaGpUSM1I3IWnCIBQaOdKSvWYoHkyA/kraY3fcZmQ/kwNzF/lIPzkb7cAP52DFr1IQd7e/TLywHy6E+bsGJEzvf2a85B2CBpVoe/IFVhQsykSx0w7beW83mTgQOmUhVr2YBF2YlNYverL9g00oNQVYsKGYysn8pgLqcSrJVl90wn4+FNOeWIXVibr++0FGD2W8bkWvycHUxHxMe7UUWQ8r5MQr9EcsQLlymoT9T0cIEc/uF5xyisecKUQtzhPqPHJCN5wHk4WIiAhh3XG/HaxbhFmUFrWpWk7oiwZh1+O0f9YpofMsrcKxV6KEiMV7KFffPA0fzheiVuYJ1U0shx6h/DWSU0SisMcu/d5URHK4P1M41YOc+kc3OXhOCZn3Rwkbq8QfOdcEp1C8kvTscaq7L+Skbz0+/Z4v5J3pqtBOo9Tek40+CzE4aTWtE6Luny9sPNkqp1xN/Nr/53IS46JTKM+a28UuiLQeE9ZRO57/5imyav2jqSiR7MnGK7QnV5e+fEH1JmpH3XXm61PCxlkkKypL9UU5rS9EuxchLNvXzfJ/vkdIjCB7aBlEQmFcrBY2Un4jFnaVjceycYB+kOihjNdTH5ivC+jLrsAfXZ0pHncdLJWA5j4tpGDXgf3vFUI3OwaagCGTF3VWM33qoQ332yFsJEbSh7eyDtSn6BuHFeZGQKcZ0xmZtdfBesAL1eRwiAMz3yh2WA4GY+nSBGhVlEPKm+UQJY+bholyR0I1Vg1M0mDMgENLP7rLIUiHuEVKFOwzUd+Fc20IQ8xbJ1C5dxV0w+Skbz11qGb6rdIhcqy/QlN7r2XtXQu9diDd4euPInoNTpTtRsqUzh7g1UOWD2v/I6QUkSFh0P98CQywIivfr80qDFhTdgK7n9ehf7lxwVJmJXuivjJ7clXpyxfYUVdJXfzuOhMyEmpmI9ssqDsnJfUJ6dj+NhU00pB8B64qM0lWB/WoQSMUiXPkD9qo6JGRUPtlLUilHpgfJAKX8Xrqgxt2qw2qRXGXjiZfgT+6OgGKzYoSqKAbx8RKNJbDWKOBTtvTsKTcUCdQgOJnr9w1ZljoUxs9UaygvnDXWmj/bkbvbA1M5KanRYYPfDjpatNogXHINOh9De9sJUykkEETJnQopMthF4OUKzGHgeSgmWQADpXA3CIncDjXmsY6mEm/MS68i8HtDFy0CO//TMWNhywf//bfwTAVWVDikLXfTukS3NWwnPDvKA4C+vIFLhvMtfTZXWfkTi8LXNR3SEl9YasyUSisg+6HXU6E6goKjsfpuviawYCLAiobfYZr1F18lWTPqegUWPTHD/ZYxuuqDxRofqJFwsMa+XtXLtcfXd4alHaKzLZnItumxESKcKu/8MD2ma5j/Yn7aDqiXwzFphOroO/eEBmNhVgwNwvuRfnYm6yVKqfdjoKl85AzJAmbMldI847iddYh1z4SSns1giL1mDZzKWLCypG1Mg/H2PwdiV4zWomRs5dgfEke/kBp9hZ5Tm/SCmx9Xi86f/dnJch7bxccYRPhLquGLnM7ku6yIHtdDszUEPRLZ8BR0QBFsA3lo1fhd9MtSMsqhSU0FmsfccJ4uBVhHgqg1GuwN81wWQGF68BzeHidGYZuc3Q+AuZxAlX9AZJ1RTCC7ceguC8W9kY7guu9iF43D41vdZfDeqyfSwp/3ojnHsmAelslUibJF+AExLpzAVK3sblgA5JSlXDYv4fQc0Uobo7Fmt9Eo7HACGeIC8WHGmBYvxdrpiv8jtFg1d7dmFGfgWWvG0n31Ih/Phatda1QtlOAWqXEkuwNSOhiNG9MpHZfAu2LB5A/188hye3dPncTPn5R38UYuyrzkbm5DkrS0bqzSkRO+B7GGKiN3+1EydpMGJutaNCuwYbRlSigdqq6QDJtS8DWNBXMmwvQNCwY1qNOxL6xFUmT6MxtVuSk56Hmc+o5LshCksuIIqcSinojysetx/aZThS8Q8Z8hBPFZhVWb5PXfjlMyHiDenhfmOGenY/cx9RkfxyX5CGPDL7SWYzyEauxfV0MVH5rBFwV+Vi3qRojtV5YvDrMuyMI6nkJHWsoXIeo/a/tof17zcia+hwKEY9NnyTA81YmTC1uCmjikL85DmrfdShPpg3pKHBTsEeyqJuwGlsXeLBtaTbM4loOIOyHaiiH6rBiSwr0dBnvWSOy3ypB690quE54oJmtgnLsT5EwNQyOQ+nIPOiA1a7Fmkw1Kt8LIBsZ0T7lF8IxLBKKc6XwPLoJ6x+hHdrdsB3NQ16RHQrqpDpO2BHzRi7iRvftC7wnsjA1uRD6tYexabbPjXph3bwASXuDkPD6ZqRQPhk96Yq2Ph2pH9rhqLXDLa5xCiI7+DIec76Cd8qcsH/mAuS1jrqlW5FC7bfHPN/B9IdkWWnHyOTV0FYYKbz2wHzHchx+JhjbuuhWEQocSgRbi+GM2YStS2Vf1i+8ML8+Fc/t1WPNoU10XTmZ9Dd7URIKgxKw4W2qvw4/KPlbHeXGFhaJCcPGYEaSAa35icjuXsbFTyHo/Xd71Aect1AbKIDJOxLaIRQ0hy0XR+mcpAvpBTa6QjRWP/EVSj5pRZDdBT3JZU5LDlJ31rDBeqqTJLj2dmt745pgKnFDN1sb2Dderj8SJ3oGwsUmYf/KKCFq5R6h4Wv67ikXMiMiuqw/qcufJUQs3CU09DB36Ft/8pMVmcKW3C3CljfThMQnE4W0HeVCg2+y1XedNcWCk87D5jEjIqKETLNvgqtB2LMwQoh6rdxv/Yk8x7uY8uZ3bU/VRmFuxFxho0U6OZsPZ+s1aiifyfv2S/OAj2cK5U4652LanrVWeHVmsrB/30Yxn3OzysU8CHSeS+aP+02rcOwlOncPx/eURzdLl2VQvYkdnyrs+jBNiCJZJB9kEg8kB+LiKWEj5T21JPDsdZNpo5D2Ulq//vZYr8ME5jdMxxqJ3Q2SHH16PYvphZggrx/YKPhmhqVj5neuGxD1I0KYRXUh6otcN/5t48bFJ58o4SdPzhfmL/T7i2VrDC5df9LEdPz+ZGFPvaRfDbvn036zhI1VHsFzMlNIfK9OqGa2hOn6h3K9yDKOeDZPqBZP5xT2P0vf5TVnbM49taRBbmtzyV5I1/TV76zXioUmZreoFln7iBDXbbFzUD7sTULx6s5z+fJQx+bWA+Qh82Rnu5DKkiYUN7NvJItX2PXJhojfGT2sP/FhyxPXHbBr/4nOxa7VVJJ6yf51+XOFiNXMHniE6lza9pvzF+0u2YdivzVRPrvik4Pn+Dox72JdsLUBbG3ImT3CfErrsOldZCPRdDBV+LGvrsS1MT45OYVjr1A+Fm8RTsnV27RvmRAh26O+fEF1rqQb818iP8B8QW6mkEo6k7ppv3DK3mm7etMVEcpTGjsP1ZcvzyKyXLvawZ7z3Ej6k2yslnRKvF61uL6Pybn4A6ZbTXI9dtetgfqFamELkyHZj7R35LK/lkrtJVXYaDx1qR/01c3FBmEXsymzyA75ChqwjD3og22XkHh/lJC2r0mSk+gnyIZ9RrrwOJ3T3OnzGo6sIz8TISQWfUp+kc7TJNtE0Veyg7u2vV7pwx/1xICneFwHM5FRpkT8/DlQsxXXHg9a6cN/GMnjdtB/iiUDrkDuXH+y4uVVWLFsBVY8vx75v83H+kV6qOXwy12ag8wyNZY+YRBXMrtb2H0wOmh80yXy0KBunP9UjjSUzNafjPRd22tBdnIB7A8uwZJIBbznzMjb6cCc6f8L/1LEI17lga2NcrNoCUWrasS+nI/db87G2HnxUFIPBSExWP5z6a4i1+ds8FWNkb6CDoR2O6yf0Gf3+WdGj3kMR+sX1IsQZeCCvZ72napH7Ny1OHz0MDY8TBkJKAdiSLD40dTiFD+7o4pOwfpX1/frL34w3m1xTdBAN0Uebg1SSJ8kb6kHHASFeIeBF24v++wZ3VTf6vtQBLP1KS1SG7mxod7aCfoImYP17+/G7p2+v+1YMZ0JrNtUbEsJsteZoZyTgDnynStu6vEhZJo4RO9sUyHhQWrRpWRLJqQghY0K0j7eNnYu+m1Rgjyc7YSrUWrzSrjpWwwSJjhQeZhqbC4dJ/e+Wy+wdqDHkkUx0p0ibiftSyls3Za3FcGR8ZimsMJ0lHIaoxOnW9z0P356EOrMti55cDvZkSoESU1M7B1mUlnUixbCIPaEPcwsdhtyl6e5ArV/wl51DMxq6mdPQUiwDvH3h8JaaqLrxkDXMYrhQl0VyehEOY5RDz/YsAq525bIc/4O1FUwWUVC4+vCtttQsJbsytQEJEyRMuIW7YFcF24qxTw9gurZVIMWKcnxkk2XZaMKlgvIyrfWBNX8JVJdhUxE/IZc5L8cC2VFHtIPNCGGyq4bRm2DbFdBUSuSSIYsW737AjvqTlB9hsQj5WXyA8wXLFuFLNKbrOQ46EbLBelDV0TEZQZBmDiu63SJ44yFJKNFZIdQSId6zHM4vhxiQHykB3bS5aBH4ul64TCk55KcF0Ez3IC4CU5xHaG/bjldzC8o4BNXv/BN9/00BWufkcv+Yha1lyykzNZ1+sGj2V39LdNx0vcgsjG+5ZuByhhQHyht/2vZsN69FAsfJf1tc8G2twDFDy7EtFu8UCbFQtHMJp20mEd6oZ4cj01byC8/OAyh0XHQnrdgP0k3/nl5ZEdue1AEo8+i9+GPemKAAYoL5UcpuCDF0Gsl6XhrKruuP+kTX0OdiPAeFxe6YDpQAm/Hwik5qPFbs+IlhTQzhzJeTmDIla6b1OmsvZWlKKQ0bVADdm2lyrAHIW7zbqya8gNo5yZA194Ii995FKO10NwTgfhFWnjOUGVNpUYg5tMNywnKw1QtwkVFGSDy+pPuC6IYPedRQYHECsSNowPk+UStngLBIeQsh5EDpUYfUA6cy+Zq3JoePFTe+DbRWI1jzBex9tFFvwOvP3GUGqW1YvdNlNuqDZVHyVlN0ojtSxWdAENYE6wUfGv0Ezs6HHZbueSYWJtgfGbGfocKhqmszSuoTcdD+5UNtBemTfYNuUsL+ET7IQcH7goT2S09DJHUboLU5Kz0QGkh5UmPuPvV4j5hUxIQ8wO72O46Oz1kB0pLKMEAvewcHeYSaoNkAyNl5+i1igGSKlLb2VHqbf0JBRKluyl/o+OREP0fUD+cAH37MRRSsKSfPa1zeoe6gLFJK8hOlCDrmQVYMP85lDpl7+OlAJHdqOAnK1QVI4fqhNkMaSpKXqvgq4swHRIeUcHun8b2EmXjkynJnOTCbMwM6jCJWR8SBs0UCr5GB5MsCsk6h1P17ULOeyQ/uwLzcnZjBZtu64vzZLvY+pNLdKYrfekKw36WrdqYBq1PL0S8pC+U7ndTAkvrOc9h0D5Gsv+KrWP06U8QVJPYupY7pXr5SrLjnR1C6iB+REKeahjQ7dAu8mcsFJim7fRVl+KA6SPKib++y36k8/qBykgE0gdxPRBV9XAnjuXnIOeQBa0TVuP3r1LQPlqPJKYLlX7nCmMdNtKdYVL7cMtrfDoGCcS2RzoaTR0yKeWqM8AApUmMLP0VSjQYbGHSXez5AVZqAuTkR2godGY9nQD01lA7kK9DlSDuI9/9opo8Eu7DBbC45OtSAKO9ixrUaVLgcxQJ11up0qU7g7yN1Mhq3BRps5EXDQw/Y1FqAuKmk4DZHTUyddb9HefpgjzioSUjI5qAFrPYu9JHa+E8JOVhILjqqkndLl0Qxeg1j21UBpIXzlLvjvaZNoEFgm5Y9xhhJWEHkoNIO+vCAcrvhoqf3XGUZiM9Lb1ff4U1PdQlhyPjW/Cnp56dfz+uo7379fgYznPdHIoc4DBn6jlRQHpMNlbs/Pj3iuVeIdkfreyYbGX74WDBgqYJpt9aqGtDbUIcjfDrUbI7+yhg6DTWbpiPUpDBnEqwFYWH7fBSkFCy00q95jgYhlKPmo3cMMSeuV+nx22BiQUfP9Yj/LwJBRUuuSzhCB8tl8VWLfY0/Rfq9+aQHAfIWTjY2qUlHXeE2cjOWUNiEBcdDPNOE5WHPROlAIWtMcg/WokTB7IQr/KisMxCv7AD2DXlIIlsl2mbGWccrGfvsxmEHDixuhjZWILC02RAZNkg0lc/fgGYLNP/J/aqw6Hxla8D6s0zMY0zYMnPfbZLC7Vfx7M3X+CtJ+dOn9rJmsDrFmT61hUXbBWURzbaSdd2ny4kR8w8kTyiLncK7UfzYT7Xd54lW62HfvKluZJGK/w6hH5OOrimECX9ehBd511tXUc9uuOkgIE+/PTdp9t6rUfWi0BlpB0D6IOjxSHqoG5OijRiMzeGAh1VZ6dM9nmBOtEdbc9vVNBmprbHgvwpweSPSmDvreh9+KOeGGCAMhLqqfQRopCGdBwl2MWix3EaKOuNyKNNlq4Mox7IWQccATLcv8hRvs4w6TqOg3niCINO40bJ63Vws+mOGroYa1QXLchbb6K0INjrKdoUBehA8Vu5qGsPRth4HdRU0V5JPiQocu7blyNpD2u80hBjd+MpIkaq1LjHSbesuU4Ui70rw1gb8rY6cbEuG9FUkVM3yAaiV+SeSw9K32Med3yIjJhoRD9DDa6SRa+ykWgsRrbZA0VwYDmIuBxUOhXUowI3AD7Fw7l6+KZtNZg4tqu++dp79ynIkdRjY8PiCpZI+m45UET7MWfqRfl7VnjpNL7OT0ePTb6zo6PTACuO7XRA9aABY2qKkOcMpnR5tMR/xEa+s2/iBDnQcZlRzDobD+rgOZoLsycYQbXHsM2hQvxsHQUMeXAES1ew1bC+tN/jEKijUEL5nBMzBtYP8+Ck/dQaA/3gK4sDxu0FJBG/fPs7pHF+8mGLH7cmYe4WL1Zs3YpV8pRBR7nmxEHnYHaVynWe2nxaDoorm6iEFGSwEVSyGvHUYWJXcdlt4jXZlIfjQDaMChXuGcXKS/YtWMqH42AhOS2yvZPVaDAW4is2RyXKhkrYMepMTooFc7NjO2Q6bkIc/UYdpQviDiKusiwkvViOO+lcaG4V8yTSToHUgVVI2kx1SF978wV1lSw3Kmg1vY++960rTagrozyzZQZtZAffaYRSRXI+bxen78XgkuSYfeh7UIWFkf70lme5rgLe9eOmPFOw5NehlYIZA2Kne3Bsqxme7wKWt6IRGTkVWRU9eAbf4yb6vKutm7+l4NhYRLrNRji85cir9ZJeBCpjYH1Q3q1FHAU67gsdJaeOtwU5iekwsgqSb3v2n4HoQG57naOCbLqRfM+DsZjmPYbcCg+CfYFOILr7oxYTMh6ZKi6q762vP+TXhLzdD0IQPnEUPs/JwAe19SgxD8UD0WE4YyqD5Qs1nn0mTpwnC77ZieOFR6D8STy0t8mHsieqPpuBnENVuPA/QNOfTsLsvQexk0cEmJ6Ur/N2Ho7YKnBy6AOYOawKH1A0r0xei8X3UtTnroKxuA71p60YuXwtntSEYDg1+MIdFOFSxN0yfQ1WPqDEkNvCobutHpmZRfhrMx2z/yRw33KkxKgR/DWd843jUCe+gIfUogp04Kr8ALkN4VieqMeIWyhHt96E+uIjKKt1Iio1GTG3UTT652Y0f+yFdrG+cxjNHxdVwrJ0vFv0PvaduoB2NOOMxYSS4i9xT8xkjPAd01MeY+9Ge/0fUPfPr9ASGotZIftQcKQWpadD8dSvEjA+NARDAshB5M8lWGNSIGH5Q1B/R0riBIbdkbPq3Sq0/JMcxsfHYa+tQl7e+zC7qM7IWJn+0gbnyWzsOOyifc7AfOxzeM/nYfMO3zH1+H7QSbz6phGur9tx5o8mHKeed9WOHSj6tAXev1Ov+2MPJs7Sddb5DYJ9z3L8IqsAxuNUTtFolaPq5nsxw/sBFq3Kxi65vTf/mWRguxVR0WPF4CJk7ESMOvc2MvbacM5UigtRM6H5+xEUHz4D/NcvqY3/C1V7cmHXvYAVM0YhhHWlPitFxpEgPPnMHIwfxgQ5HMHt5Sg8VonaLyOxJtkA5S02lL5WjKDFL2H+xOGibZHa8r34RdJ0jGRtIWQ4bmow4oi5CjXDF+OVBeMRclswbvqkEBZ7I2y3/wzPzlTTNV2o7J6H20Iw9JMCFFfU4ov71uAFgxIh6vEY27IPv9ltge2IEeZGB1yjn8SzT4xHS5G/fL4g+VD7N+7Dvo8+xIcfnITzR4ux/tfLYZAWGMjI5aqsR+PZO/GzZ8mu3j4GY75zBscr7Wh2VGJfXiW191fwlJ5sHB0RMvwmfH6kAGXWWli/9yTSqEwK1b3Q3XwEvyHHWf/pH2D7QSwMt1bjd//HDNd/PI2nH1XjwqdMNjq8sOIhjBKzMJzKWY6CkpMdMlX9MArTvlOMlzMO4K/uWhRvM6L+rv/CC8sewD0Tp2GsowAv77TCXV+Bot8fh3fCEqQ8Hi7KK5AvYHcOLcvIRdFRF8mEBZTlKPu6J1/QH10ZA8UtFhQdqEDt6RZoV6bgIWaQb70dN/2lGAUnqig9FE++RDbz+1TCH/WW53oczdoHp+EpLP7P7vm5VLeY3OsPFqO8sgahi1/B4nHB+IqCgzN/bUZZuxaL9SP9zuFASdoyvLy1CKV/p4DATcHgH8vwlToWk+8MWHI/f3sOpuMXEDVTA+fRYpRYgbiVi3HvXXcGLGNAffiOGlFTQlCc8TZKm5tRRb8X25SIXbkCD9D13dRO3jwxAgtXzMTYW+Us+JDb3pLU+VSPYslxO8nKeKgclj+FYvHLizG++zH+dPdHrTbsKziCz0dEYmb0eAwPVHziJrZSVt6+ijhQmDgbpbMPIPexXkPEK8NL8e6QK3vMvbeFokmFtJ5jwLBbA5faELctCYEfQnSdCCAH27bZSPw8BYfXXd4t0RwO5zKQbxeuXrYb25dqLu2Jfuu4Tr7gKuJ1k08IuUyfIMNun06sjfv30gHynWw5gUIcqrq6XK4/Yn2Ca4AKsQtiUL2zRBzevWYEBQhEugcsfSAOlV6mIrrLimGP1veyluY60V0OXguMO5VY+sQ0HpxwONcQb00+FkyPxHI21U2waZTCED3iHpSnk771XCdfcBUJutwOawdulB+0Y8b0fzMdIN95LYKTK/FH12gEhSG9TK34x7/3ewDPDYTbjIynzTC8vUq+5WrwwF7OlO5eg92+h+BdL86ZkPFKOowhq3E4VYEc3/bmuM5V3v77+Kdfd9yw7t2FwoP5KKnRImZpJFRtjTAf9SA2cz0SJnxToZ0L5p17YJcfpNVBmwPWGjdGRmrkW5h7x1Gag/09eQTNHKyI/vfozQ56Ggux6oVcNGnmQTekhpywHglJcdD7bpHlEDe4L+iGuywDyyoM2Pz8AF56ewNzRf6IBSjXjK8bhD0rl3V9ARbnmsIezLQsy/cwquuP+NAi+cFk/tv+9JT+TSA9/K7z4WvSC6/ShGO9vACQ5b/rQ8fYg606z3FlOIXyHWlCYjf5iC+xi5gr7KqXE/qAlSu5iD0+SX6Yknw+8eWUA3kJmcjVLB/nWwn3Bd9KrtQfXaMpHpkQNeLfykX8aPk755oTNCkFuanyw6g4Ayb0u0qgzdTLC8q8aGDPHfDnXB2s8uaVEwZ9jA4KlbLLcKj4ErvKIiTcLSf0iguORj0MAV7Rr5pugL7Z2XkHQ3+4quXjfCvhvuBbyZX6owHexcPhyDQW4rn578IeYkf+GiPaIqZh/G1DcMFWgoIGNRbGsgchdW7766dvn9hbChATn4Gqf4Rg1MTxGOG7kcptRUH6L5D0UhFO/u0ruE+9gdTfVaGxohHn2PahW/HIjLEIabOhYPUqGJubcDDDiPZpOrT9fg1+kfgrZBW8j/e3mzD0B19i8/YqKL8+jl/9/AMMfTQW4X6rzZsr3oWxWou4p+7DCAo+qj76DUraEvDs03Suj57DE1vtCP1LPtZ81AZd1CicN/4aqf+7Hm7Biy/sHoxUOZD76wyY/tYOz7+a4BwajvGhjV3zNVmJk6+z8mThfcpX3pFg/Og2I9b+7Je0XY9znv9G4epc/FUbi8kj2mB534iRTyT4PQHSDetvpXI5/vMpjPpzBp4LeKxvPDkEYx/2lfMCbMUFKMMDUj3cGo7YGWoEXyK7cHy+OxsZz/8SOZVD4f6/z2B5RiVa/qcFHxe8jeP+5buz6x1vHA6Hc02QR1I4nIHRVC7syi0W6jyCcOrNCCFiZbE4hdDvKZ6nNwpbVid2vHvoEsT3ncjvublkW3rHSd17szre+SFOzYjb0ntEMo87hYYzDcIfc6T3WNQ1NwmnivYI1d0uJ03xLBM20m97ducJu4ynOoYjm47vErYcrBM88nskpHcfSef3n+IRy+M3BRIwX2K+M4Xy5gahTnzHiDz1Iu4nb/c69SJdd2MV2x7IsV2neHwElp0gtB5JE6JmJQvJT5OM5RdsdC8fh8PhXA+u7RQP58ZFoYTSa0LO6wUwn6fvF31PmesntUYUnaiDU3z9tgumVxdgwSL5b6dvQkGJ4I6hF/9thgt1VgfQYkd1hQXO0SnIfVR6RDkjKDQM6nFq3Be/CUuHGJE+fzaWb62Ew+9hU51oYJgbj/j5SUiYresYjlTcqYS3LAeZu80Q79G4KCb3QW/5CoLiDjU0/gso2e2M8uaAuexje86j4sGVWDvWDPOwWBj4OloOh/MNwgMUzmXghun1BUhvicOGtQnQsxekNZqQt9eKr6Qd+mZSCrauNcC0jr1WPgyGNL8XzC3Syjv1RhjCtcyDKhE+RQfd5FC46p3oHiZZD2bjnz/djqLDpciabkLxyX6+o8BtQub8dLgf2YA1C/RgV7J/nIfC023S72iCMfk5GFlw5uN0NiI3N/UrX98sPcvOe3oXjD9IQnztOqQf6iYrsXx8NQqHw7k+8DUonMsgGKE3t8B6vB4Xbz6Lik89cNRa0TZmFJynzTjT0ALv0K9RVX5c2r5zIvS+13OeM+GdD0vE9KFhwUBFCQqtzVCMurdzbYPbisI8I8z/7UD7xS9gr65C1SXbI2BY8iTu+mM2dlQNhbfahJbIGQg+ngdjeT2aL16EYqwOIaffxJsHmhES8gWqzijx0BMxUItrM9htxhRwlFWhnoIMz788UGr81sEEhwL/sKLs7EUKvipQ9U8Has+0Qff4ctx3ezl2HKtB220zsXD2WISJT5Ok/P6tHXMem4+HHtBjmH++xt0N+/4/UHma6ToKhEeq4S59BwUlZ3DuSw8u/q0WlRZpe9hoXYA1Hiyv78rlGotROIiP+nMsyTrng4PS7y3t8H5ph2eEDurvU2gSfl/XPEZOgXvXG3h54z4g5kno/2FBwb6TaPYooH1oDJr9yte51oXD4XCuHdfwOSgcDofD4XA4lwef4uFwOBwOhzPo4AEKh8PhcDicQQcPUDgcDofD4Qw6eIDC4XA4HA5n0MEDFA6Hw+FwOIMOHqBwOBwOh8MZZAD/H8+kH84PMCywAAAAAElFTkSuQmCC)\n",
        "\n",
        "Given a k-mer Pattern and a set of strings Dna = {Dna1, … , Dnat}, we define d(Pattern, Dna) as the sum of distances between Pattern and all strings in Dna,\n",
        "![Capture1.PNG](data:image/png;base64,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)\n",
        "\n",
        "Our goal is to find a k-mer Pattern that minimizes d(Pattern, Dna) over all k-mers Pattern, the same task that the Equivalent Motif Finding Problem is trying to achieve. We call such a k-mer a median string for Dna.\n"
      ],
      "metadata": {
        "id": "Ehq08kiWHmtJ"
      }
    },
    {
      "cell_type": "code",
      "source": [
        "import sys\n",
        "\n",
        "#find all combinations\n",
        "#iterate through each dna pattern -> find minimum hamming distance\n",
        "#calculate sum of minimum hamming distance\n",
        "#store combination having the lowest sum of hamming distance\n",
        "\n",
        "def find_median_string(k,dna):\n",
        "  median_string = \"\"\n",
        "  combinations = get_combinations(k) #[code cell 1]\n",
        "  lowest_distance = sys.maxsize\n",
        "  for item in combinations:\n",
        "    str1 = ''.join(item)\n",
        "    dis = 0\n",
        "    for pattern in dna:\n",
        "      min_dis = k+1\n",
        "      for i in range(len(pattern)-k+1):\n",
        "        ham_dis = ham_distance(str1,pattern[i:i+k])\n",
        "        min_dis = min(ham_dis,min_dis)\n",
        "      dis = dis + min_dis     #sum of hamming distance\n",
        "    if dis<lowest_distance:\n",
        "      lowest_distance = dis\n",
        "      median_string = str1\n",
        "  return median_string\n",
        "\n",
        "\n",
        "dna =  ['AATATGTTTTATGTGTCAGTTGGTCAAGATCTCGCTGGGTCG',\n",
        "        'TCTTATGCCGCCTTCCAACAAGATCCCGGTGTATACTAACCT',\n",
        "        'CCTGGACCCCACCTAGATAAAACTTACGTTGCAATATCTATT',\n",
        "        'CAGGTGCTAGATCAAGACCTGGTTAATCTAGGATCAAACGGT',\n",
        "        'CGCAAGGTCGCTCAAGATAAGGTCCCCCAGTGAGGAACAACC',\n",
        "        'GATGGACAAGATATGCGAGCACACACTAGCATAGGGCCAAAT',\n",
        "        'CCATCACTCCAGTTTTCACTAGATGTACTTGGTACGGATACG',\n",
        "        'GAGCTTCCTTCGCAAGGCCAAGATACCCGAGTAACGGGCGCT',\n",
        "        'AGACCCTTGATACTAGGCAGACGTGGTCACCCAGATGAAGTT',\n",
        "        'GATGCGCATACATAGGTGGCTAGTGCGTTGCGAGATGATGCT']\n",
        "find_median_string(6,dna)"
      ],
      "metadata": {
        "colab": {
          "base_uri": "https://localhost:8080/",
          "height": 36
        },
        "id": "H2QeLsKVIYtA",
        "outputId": "bb35fe4c-5036-4e9a-8416-d90370afec6e"
      },
      "execution_count": 4,
      "outputs": [
        {
          "output_type": "execute_result",
          "data": {
            "text/plain": [
              "'CAAGAT'"
            ],
            "application/vnd.google.colaboratory.intrinsic+json": {
              "type": "string"
            }
          },
          "metadata": {},
          "execution_count": 4
        }
      ]
    },
    {
      "cell_type": "markdown",
      "source": [
        "# **BA2C:** Find a Profile-most Probable k-mer in a String\n",
        "\n",
        "Given a profile matrix Profile, we can evaluate the probability of every k-mer in a string Text and find a Profile-most probable k-mer in Text, i.e., a k-mer that was most likely to have been generated by Profile among all k-mers in Text. For example, ACGGGGATTACC is the Profile-most probable 12-mer in GGTACGGGGATTACCT. Indeed, every other 12-mer in this string has probability 0.Given a profile matrix Profile, we can evaluate the probability of every k-mer in a string Text and find a Profile-most probable k-mer in Text, i.e., a k-mer that was most likely to have been generated by Profile among all k-mers in Text. For example, ACGGGGATTACC is the Profile-most probable 12-mer in GGTACGGGGATTACCT. Indeed, every other 12-mer in this string has probability 0.\n",
        "\n",
        "In general, if there are multiple Profile-most probable k-mers in Text, then we select the first such k-mer occurring in Text."
      ],
      "metadata": {
        "id": "dQtmg1lHPkfQ"
      }
    },
    {
      "cell_type": "code",
      "source": [
        "dict = {'A' : [0.321, 0.214, 0.25, 0.25, 0.179, 0.107, 0.429],\n",
        "        'C' : [0.107, 0.286, 0.286, 0.25, 0.429, 0.393, 0.179],\n",
        "        'G' : [0.393, 0.214, 0.143, 0.25, 0.179, 0.321, 0.286],\n",
        "        'T' : [0.179, 0.286, 0.321, 0.25, 0.214, 0.179, 0.107]}\n",
        "\n",
        "# def get_most_probable_k_mer(k,pattern):\n",
        "#   min_probability = 0\n",
        "#   s = \"\"\n",
        "#   for i in range(len(pattern)-k+1):\n",
        "#     k_mer = pattern[i:i+k]\n",
        "#     p = 1\n",
        "#     for j in range(len(k_mer)):\n",
        "#       p = p * dict[k_mer[j]][j]\n",
        "#     if p>min_probability:\n",
        "#       min_probability = p\n",
        "#       s = k_mer\n",
        "#   return s\n",
        "\n",
        "def get_most_probable_kmer(k,pattern,profile):\n",
        "  most_probable = -1\n",
        "  str1  = \"\"\n",
        "  for i in range(len(pattern)-k+1):\n",
        "    p=1.0\n",
        "    s=pattern[i:i+k]\n",
        "    for j in range(k):\n",
        "      p=p*profile[s[j]][j]\n",
        "    if p>most_probable:\n",
        "      most_probable = p\n",
        "      str1 = s\n",
        "  return str1\n",
        "\n",
        "# x = get_most_probable_k_mer(7,'GACGCGACACTAGATTGAGCATGGGCTCTGCGTCCTAACGTATCCGGGGTGGCAGAGAAAGACGTCGGTGAGGCTTCAGTAGTGCGCCGGCCGTGTCCAGTCAAGATGTGGCCATCAGCTCCGCTACATCAGGTGCGAATTCGTTATTTGGTAAGTGAAGCGGTAGTCAAGCCGAATAGATAAGGCGTGCACGCTGTTTC')\n",
        "get_most_probable_kmer(7,'GACGCGACACTAGATTGAGCATGGGCTCTGCGTCCTAACGTATCCGGGGTGGCAGAGAAAGACGTCGGTGAGGCTTCAGTAGTGCGCCGGCCGTGTCCAGTCAAGATGTGGCCATCAGCTCCGCTACATCAGGTGCGAATTCGTTATTTGGTAAGTGAAGCGGTAGTCAAGCCGAATAGATAAGGCGTGCACGCTGTTTC',dict)\n"
      ],
      "metadata": {
        "colab": {
          "base_uri": "https://localhost:8080/",
          "height": 36
        },
        "id": "08WAaw3pQIvw",
        "outputId": "6b32e143-c42f-4a57-c5cb-abee9aae03af"
      },
      "execution_count": 5,
      "outputs": [
        {
          "output_type": "execute_result",
          "data": {
            "text/plain": [
              "'GGTGCGA'"
            ],
            "application/vnd.google.colaboratory.intrinsic+json": {
              "type": "string"
            }
          },
          "metadata": {},
          "execution_count": 5
        }
      ]
    },
    {
      "cell_type": "markdown",
      "source": [
        "# **BA2D:** Implement GreedyMotifSearch\n",
        "\n",
        "```\n",
        "    GREEDYMOTIFSEARCH(Dna, k, t)\n",
        "        BestMotifs ← motif matrix formed by first k-mers in each string\n",
        "                      from Dna\n",
        "        for each k-mer Motif in the first string from Dna\n",
        "            Motif1 ← Motif\n",
        "            for i = 2 to t\n",
        "                form Profile from motifs Motif1, …, Motifi - 1\n",
        "                Motifi ← Profile-most probable k-mer in the i-th string\n",
        "                          in Dna\n",
        "            Motifs ← (Motif1, …, Motift)\n",
        "            if Score(Motifs) < Score(BestMotifs)\n",
        "                BestMotifs ← Motifs\n",
        "        return BestMotifs\n",
        "```"
      ],
      "metadata": {
        "id": "1HklBR2fa8cZ"
      }
    },
    {
      "cell_type": "code",
      "source": [
        "def calculate_score(motifs):\n",
        "  score = 0\n",
        "  for i in range(len(motifs[0])):\n",
        "    A = 0\n",
        "    T = 0\n",
        "    G = 0\n",
        "    C = 0\n",
        "    for j in range(len(motifs)):\n",
        "      s = motifs[j][i]\n",
        "      if s == 'A':\n",
        "        A = A + 1\n",
        "      elif s == 'T':\n",
        "        T = T + 1\n",
        "      elif s == 'G':\n",
        "        G = G + 1\n",
        "      elif s == 'C':\n",
        "        C = C + 1\n",
        "    lis = [A,T,G,C]\n",
        "    lis.sort()\n",
        "    score= score + lis[0]+lis[1]+lis[2]\n",
        "  return score\n",
        "\n",
        "def create_profile(motifs,pseudocount=0):\n",
        "  profile = {\n",
        "        'A':[],\n",
        "        'C':[],\n",
        "        'G':[],\n",
        "        'T':[]\n",
        "    }\n",
        "  for i in range(len(motifs[0])):\n",
        "    A = pseudocount\n",
        "    T = pseudocount\n",
        "    G = pseudocount\n",
        "    C = pseudocount\n",
        "    for j in range(len(motifs)):\n",
        "      s = motifs[j][i]\n",
        "      if s == 'A':\n",
        "        A = A + 1\n",
        "      elif s == 'T':\n",
        "        T = T + 1\n",
        "      elif s == 'G':\n",
        "        G = G + 1\n",
        "      elif s == 'C':\n",
        "        C = C + 1\n",
        "    total = A + T + G + C\n",
        "    profile['A'].append(A / total)\n",
        "    profile['T'].append(T / total)\n",
        "    profile['G'].append(G / total)\n",
        "    profile['C'].append(C / total)\n",
        "  return profile\n",
        "\n",
        "def  greedy_motif_search(k,t,dna,pseudocount=0):\n",
        "  best_motifs = []\n",
        "  min_score = sys.maxsize\n",
        "\n",
        "  for i in range(len(dna[0])-k+1):   #first dna string\n",
        "    motifs = []\n",
        "    k_mer = dna[0][i:i+k]\n",
        "    motifs.append(k_mer)\n",
        "    profile = create_profile(motifs,pseudocount)\n",
        "    for j in range(1,t):      #next dna strings\n",
        "      probable_kmer = get_most_probable_kmer(k,dna[j],profile)  #[code cell 3]\n",
        "      motifs.append(probable_kmer)\n",
        "      profile = create_profile(motifs,pseudocount)\n",
        "    score = calculate_score(motifs)\n",
        "    if score < min_score:\n",
        "      min_score= score\n",
        "      best_motifs = motifs\n",
        "  return  best_motifs\n",
        "\n",
        "dna = ['GGCGTTCAGGCA','AAGAATCAGTCA','CAAGGAGTTCGC','CACGTCAATCAC','CAATAATATTCG']\n",
        "\n",
        "greedy_motif_search(3,5,dna)\n"
      ],
      "metadata": {
        "colab": {
          "base_uri": "https://localhost:8080/"
        },
        "id": "fqDrCMw8jjSZ",
        "outputId": "435e535a-1c56-4dae-9490-dbc709e6b5ef"
      },
      "execution_count": 6,
      "outputs": [
        {
          "output_type": "execute_result",
          "data": {
            "text/plain": [
              "['CAG', 'CAG', 'CAA', 'CAA', 'CAA']"
            ]
          },
          "metadata": {},
          "execution_count": 6
        }
      ]
    },
    {
      "cell_type": "markdown",
      "source": [
        "# **BA2E:** Implement GreedyMotifSearch with Pseudocounts\n",
        "We encountered GreedyMotifSearch in “Implement GreedyMotifSearch”. In this problem, we will power it up with pseudocounts."
      ],
      "metadata": {
        "id": "en65Cy3MB38J"
      }
    },
    {
      "cell_type": "code",
      "source": [
        "greedy_motif_search(3,5,dna,1)"
      ],
      "metadata": {
        "colab": {
          "base_uri": "https://localhost:8080/"
        },
        "id": "-YRQ3E6556Ee",
        "outputId": "8311d00e-a56b-4985-9fe9-bcc185143a63"
      },
      "execution_count": 7,
      "outputs": [
        {
          "output_type": "execute_result",
          "data": {
            "text/plain": [
              "['TTC', 'ATC', 'TTC', 'ATC', 'TTC']"
            ]
          },
          "metadata": {},
          "execution_count": 7
        }
      ]
    },
    {
      "cell_type": "code",
      "source": [
        "\n",
        "#too open from file\n",
        "# dna= []\n",
        "# with open('input.txt','r') as f:\n",
        "#   for line in f:\n",
        "#     s = line.strip() #to remove '\\n'\n",
        "#     dna.append(s)\n",
        "\n",
        "# x = greedy_motif_search(12,25,dna,1)\n",
        "\n",
        "# for item in x:\n",
        "#   print(item)\n",
        "\n",
        "#line.split() space separated iitems"
      ],
      "metadata": {
        "id": "HgM6wQt5L23x"
      },
      "execution_count": 8,
      "outputs": []
    },
    {
      "cell_type": "markdown",
      "source": [
        "# **BA2F:** Implement RandomizedMotifSearch\n",
        "\n",
        "We will now turn to randomized algorithms that flip coins and roll dice in order to search for motifs. Making random algorithmic decisions may sound like a disastrous idea; just imagine a chess game in which every move would be decided by rolling a die. However, an 18th Century French mathematician and naturalist, Comte de Buffon, first proved that randomized algorithms are useful by randomly dropping needles onto parallel strips of wood and using the results of this experiment to accurately approximate the constant π.\n",
        "\n",
        "Randomized algorithms may be nonintuitive because they lack the control of traditional algorithms. Some randomized algorithms are Las Vegas algorithms, which deliver solutions that are guaranteed to be exact, despite the fact that they rely on making random decisions. Yet most randomized algorithms are Monte Carlo algorithms. These algorithms are not guaranteed to return exact solutions, but they do quickly find approximate solutions. Because of their speed, they can be run many times, allowing us to choose the best approximation from thousands of runs.\n",
        "\n",
        "A randomized algorithm for motif finding is given below.\n",
        "\n",
        "```\n",
        "RANDOMIZEDMOTIFSEARCH(Dna, k, t)\n",
        "        randomly select k-mers Motifs = (Motif1, …, Motift) in each string\n",
        "            from Dna\n",
        "        BestMotifs ← Motifs\n",
        "        while forever\n",
        "            Profile ← Profile(Motifs)\n",
        "            Motifs ← Motifs(Profile, Dna)\n",
        "            if Score(Motifs) < Score(BestMotifs)\n",
        "                BestMotifs ← Motifs\n",
        "            else\n",
        "                return BestMotifs\n",
        "```\n",
        "\n"
      ],
      "metadata": {
        "id": "Uz2lpzBJAbtn"
      }
    },
    {
      "cell_type": "code",
      "source": [
        "import random\n",
        "\n",
        "def randomized_search(dna,k,t):\n",
        "  best_motifs = []\n",
        "  motifs = []\n",
        "  for item in dna:\n",
        "    y = len(item)-k\n",
        "    r_pos = random.randint(0,y)\n",
        "    pattern = item[r_pos:r_pos+k]\n",
        "    motifs.append(pattern)\n",
        "\n",
        "  # print(motifs)\n",
        "  min_score = calculate_score(motifs)\n",
        "  best_motifs = motifs\n",
        "  i=0\n",
        "  while True:\n",
        "    profile = create_profile(motifs,1)\n",
        "    motifs.clear()\n",
        "    for item in dna:\n",
        "      motif = get_most_probable_kmer(k,item,profile)\n",
        "      motifs.append(motif)\n",
        "    score = calculate_score(motifs)\n",
        "    if score<min_score:\n",
        "      min_score = score\n",
        "      best_motifs = motifs\n",
        "    else:\n",
        "      break\n",
        "  return best_motifs\n",
        "\n",
        "\n",
        "dna = ['CGCCCCTCTCGGGGGTGTTCAGTAAACGGCCA','GGGCGAGGTATGTGTAAGTGCCAAGGTGCCAG','TAGTACCGAGACCGAAAGAAGTATACAGGCGT',\n",
        "       'TAGATCAAGTTTCAGGTGCACGTCGGTGAACC','AATCCACCAGCTCCACGTGCAATGTTGGCCTA']\n",
        "best_motifs = []\n",
        "sc = sys.maxsize\n",
        "for i in range(1000):\n",
        "  motifs = randomized_search(dna,8,5)\n",
        "  # print(motifs)\n",
        "  score = calculate_score(motifs)\n",
        "  if sc>score:\n",
        "    best_motifs = motifs\n",
        "    sc = score\n",
        "\n",
        "\n",
        "print(best_motifs)\n",
        "\n",
        "# randomized_search(dna,8,5)\n",
        "\n",
        "\n",
        "\n",
        "\n"
      ],
      "metadata": {
        "colab": {
          "base_uri": "https://localhost:8080/"
        },
        "id": "mGxQw8leAlDr",
        "outputId": "d3567f65-6dea-45f9-ea4d-f9664b68b485"
      },
      "execution_count": 9,
      "outputs": [
        {
          "output_type": "stream",
          "name": "stdout",
          "text": [
            "['TCTCGGGG', 'CCAAGGTG', 'TACAGGCG', 'TTCAGGTG', 'TCCACGTG']\n"
          ]
        }
      ]
    },
    {
      "cell_type": "markdown",
      "source": [
        "# **BA2H:** Implement DistanceBetweenPatternAndStrings\n",
        "The first potential issue with implementing MedianString from “Find a Median String” is writing a function to compute d(Pattern, Dna) = ∑ti=1 d(Pattern, Dnai), the sum of distances between Pattern and each string in Dna = {Dna1, ..., Dnat}. This task is achieved by the following pseudocode.\n",
        "\n",
        "```\n",
        "DistanceBetweenPatternAndStrings(Pattern, Dna)\n",
        "    k ← |Pattern|\n",
        "    distance ← 0\n",
        "    for each string Text in Dna\n",
        "        HammingDistance ← ∞\n",
        "        for each k-mer Pattern’ in Text\n",
        "            if HammingDistance > HammingDistance(Pattern, Pattern’)\n",
        "                HammingDistance ← HammingDistance(Pattern, Pattern’)\n",
        "        distance ← distance + HammingDistance\n",
        "    return distance\n",
        "```\n",
        "\n"
      ],
      "metadata": {
        "id": "oS3huanIi_Ok"
      }
    },
    {
      "cell_type": "code",
      "source": [
        "def distance_between_pattern(pattern,dna):\n",
        "  k = len(pattern)\n",
        "  distance = 0\n",
        "  for text in dna:\n",
        "    ham_dis = sys.maxsize\n",
        "    for i in range(len(text)-k+1):\n",
        "      k_mer = text[i:i+k]\n",
        "      d = ham_distance(k_mer,pattern)\n",
        "      if d<ham_dis:\n",
        "        ham_dis = d\n",
        "    distance+=ham_dis\n",
        "  return distance\n",
        "\n",
        "dna = ['TTACCTTAAC', 'GATATCTGTC', 'ACGGCGTTCG', 'CCCTAAAGAG', 'CGTCAGAGGT']\n",
        "distance_between_pattern('AAA',dna)"
      ],
      "metadata": {
        "colab": {
          "base_uri": "https://localhost:8080/"
        },
        "id": "hOqo_h5QGnnA",
        "outputId": "147beb11-80d6-41f1-91fb-5087c9235c43"
      },
      "execution_count": 10,
      "outputs": [
        {
          "output_type": "execute_result",
          "data": {
            "text/plain": [
              "5"
            ]
          },
          "metadata": {},
          "execution_count": 10
        }
      ]
    }
  ]
}