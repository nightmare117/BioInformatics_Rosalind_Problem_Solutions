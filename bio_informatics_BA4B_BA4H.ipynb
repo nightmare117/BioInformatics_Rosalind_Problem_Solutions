{
  "nbformat": 4,
  "nbformat_minor": 0,
  "metadata": {
    "colab": {
      "provenance": []
    },
    "kernelspec": {
      "name": "python3",
      "display_name": "Python 3"
    },
    "language_info": {
      "name": "python"
    }
  },
  "cells": [
    {
      "cell_type": "code",
      "execution_count": 26,
      "metadata": {
        "colab": {
          "base_uri": "https://localhost:8080/"
        },
        "id": "PCdQAevWQEYU",
        "outputId": "80e26e53-8c56-4fa4-c6cf-ba939b9b5dee"
      },
      "outputs": [
        {
          "output_type": "stream",
          "name": "stdout",
          "text": [
            "Collecting biopython\n",
            "  Downloading biopython-1.81-cp310-cp310-manylinux_2_17_x86_64.manylinux2014_x86_64.whl (3.1 MB)\n",
            "\u001b[?25l     \u001b[90m━━━━━━━━━━━━━━━━━━━━━━━━━━━━━━━━━━━━━━━━\u001b[0m \u001b[32m0.0/3.1 MB\u001b[0m \u001b[31m?\u001b[0m eta \u001b[36m-:--:--\u001b[0m\r\u001b[2K     \u001b[91m━━━\u001b[0m\u001b[91m╸\u001b[0m\u001b[90m━━━━━━━━━━━━━━━━━━━━━━━━━━━━━━━━━━━━\u001b[0m \u001b[32m0.3/3.1 MB\u001b[0m \u001b[31m8.3 MB/s\u001b[0m eta \u001b[36m0:00:01\u001b[0m\r\u001b[2K     \u001b[91m━━━━━━━━━\u001b[0m\u001b[91m╸\u001b[0m\u001b[90m━━━━━━━━━━━━━━━━━━━━━━━━━━━━━━\u001b[0m \u001b[32m0.7/3.1 MB\u001b[0m \u001b[31m10.6 MB/s\u001b[0m eta \u001b[36m0:00:01\u001b[0m\r\u001b[2K     \u001b[91m━━━━━━━━━━━━━━━━\u001b[0m\u001b[91m╸\u001b[0m\u001b[90m━━━━━━━━━━━━━━━━━━━━━━━\u001b[0m \u001b[32m1.3/3.1 MB\u001b[0m \u001b[31m12.6 MB/s\u001b[0m eta \u001b[36m0:00:01\u001b[0m\r\u001b[2K     \u001b[91m━━━━━━━━━━━━━━━━━━━━━━━━━━\u001b[0m\u001b[91m╸\u001b[0m\u001b[90m━━━━━━━━━━━━━\u001b[0m \u001b[32m2.1/3.1 MB\u001b[0m \u001b[31m14.7 MB/s\u001b[0m eta \u001b[36m0:00:01\u001b[0m\r\u001b[2K     \u001b[91m━━━━━━━━━━━━━━━━━━━━━━━━━━━━━━━━━━━━━━━\u001b[0m\u001b[90m╺\u001b[0m \u001b[32m3.0/3.1 MB\u001b[0m \u001b[31m17.2 MB/s\u001b[0m eta \u001b[36m0:00:01\u001b[0m\r\u001b[2K     \u001b[90m━━━━━━━━━━━━━━━━━━━━━━━━━━━━━━━━━━━━━━━━\u001b[0m \u001b[32m3.1/3.1 MB\u001b[0m \u001b[31m15.5 MB/s\u001b[0m eta \u001b[36m0:00:00\u001b[0m\n",
            "\u001b[?25hRequirement already satisfied: numpy in /usr/local/lib/python3.10/dist-packages (from biopython) (1.23.5)\n",
            "Installing collected packages: biopython\n",
            "Successfully installed biopython-1.81\n"
          ]
        }
      ],
      "source": [
        "!pip install biopython\n",
        "from Bio.Seq import Seq"
      ]
    },
    {
      "cell_type": "markdown",
      "source": [
        "# **BA4B:** Find Substrings of a Genome Encoding a Given Amino Acid String\n",
        "\n",
        "There are three different ways to divide a DNA string into codons for translation, one starting at each of the first three starting positions of the string. These different ways of dividing a DNA string into codons are called reading frames. Since DNA is double-stranded, a genome has six reading frames (three on each strand), as shown in Figure 1.\n",
        "\n",
        "We say that a DNA string Pattern encodes an amino acid string Peptide if the RNA string transcribed from either Pattern or its reverse complement Pattern translates into Peptide."
      ],
      "metadata": {
        "id": "PfmKpdxYQl3D"
      }
    },
    {
      "cell_type": "code",
      "source": [
        "def subStrings(dna,peptide):\n",
        "  c = len(peptide)*3\n",
        "  seq = Seq(peptide)\n",
        "  for i in range(len(dna)-c+1):\n",
        "    pattern = dna[i:i+c]\n",
        "    pattern_protein = Seq(pattern).translate()\n",
        "    rc = Seq(pattern).reverse_complement()\n",
        "    pattern_r_protein = rc.translate()\n",
        "    if seq==pattern_protein or seq==pattern_r_protein:\n",
        "      print(pattern)\n",
        "\n",
        "dna = \"ATGGCCATGGCCCCCAGAACTGAGATCAATAGTACCCGTATTAACGGGTGA\"\n",
        "peptide = \"MA\"\n",
        "subStrings(dna,peptide)"
      ],
      "metadata": {
        "colab": {
          "base_uri": "https://localhost:8080/"
        },
        "id": "DyBgo80yQuBm",
        "outputId": "014bd216-ba65-4551-a462-635bf67b072b"
      },
      "execution_count": 27,
      "outputs": [
        {
          "output_type": "stream",
          "name": "stdout",
          "text": [
            "ATGGCC\n",
            "GGCCAT\n",
            "ATGGCC\n"
          ]
        }
      ]
    },
    {
      "cell_type": "markdown",
      "source": [
        "# **BA4C:** Generate the Theoretical Spectrum of a Cyclic Peptide\n",
        "The workhorse of peptide sequencing is the mass spectrometer, an expensive molecular scale that shatters molecules into pieces and then weighs the resulting fragments. The mass spectrometer measures the mass of a molecule in daltons (Da); 1 Da is approximately equal to the mass of a single nuclear particle (i.e., a proton or neutron).\n",
        "\n",
        "![Screenshot 2023-11-14 235300.PNG.jpg](data:image/jpeg;base64,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)\n",
        "\n",
        "We will approximate the mass of a molecule by simply adding the number of protons and neutrons found in the molecule’s constituent atoms, which yields the molecule’s integer mass. For example, the amino acid \"Gly\", which has chemical formula C2H3ON, has an integer mass of 57, since 2·12 + 3·1 + 1·16 + 1·14 = 57. Yet 1 Da is not exactly equal to the mass of a proton/neutron, and we may need to account for different naturally occurring isotopes of each atom when weighing a molecule. As a result, amino acids typically have non-integer masses (e.g., \"Gly\" has total mass equal to approximately 57.02 Da); for simplicity, however, we will work with the integer mass table given in Figure 1.\n",
        "\n",
        "The theoretical spectrum of a cyclic peptide Peptide, denoted Cyclospectrum(Peptide), is the collection of all of the masses of its subpeptides, in addition to the mass 0 and the mass of the entire peptide. We will assume that the theoretical spectrum can contain duplicate elements, as is the case for \"NQEL\" (shown in Figure 2), where \"NQ\" and \"EL\" have the same mass."
      ],
      "metadata": {
        "id": "YcEDI0gg9Wa2"
      }
    },
    {
      "cell_type": "code",
      "source": [
        "m = {\n",
        "    'G':57,\n",
        "    'A':71,\n",
        "    'S':87,\n",
        "    'P':97,\n",
        "    'V':99,\n",
        "    'T':101,\n",
        "    'C':103,\n",
        "    'I':113,\n",
        "    'L':113,\n",
        "    'N':114,\n",
        "    'D':115,\n",
        "    'K':128,\n",
        "    'Q':128,\n",
        "    'E':129,\n",
        "    'M':131,\n",
        "    'H':137,\n",
        "    'F':147,\n",
        "    'R':156,\n",
        "    'Y':163,\n",
        "    'W':186\n",
        "}\n",
        "\n",
        "def calculate_weight(peptide):\n",
        "  w = 0\n",
        "  for i in range(len(peptide)):\n",
        "    w+=m[peptide[i]]\n",
        "  return w\n",
        "\n",
        "\n",
        "def spectrums(peptide):\n",
        "  arr = [0]\n",
        "  arr.append(calculate_weight(peptide))\n",
        "  k = len(peptide)\n",
        "  for i in range(1,k):\n",
        "    s = peptide + peptide[:i-1]\n",
        "    for j in range(len(peptide)):\n",
        "      sub = s[j:j+i]\n",
        "      w = calculate_weight(sub)\n",
        "      arr.append(w)\n",
        "  arr.sort()\n",
        "  return arr\n",
        "\n",
        "\n",
        "peptide = \"LEQN\"\n",
        "spectrums(peptide)"
      ],
      "metadata": {
        "colab": {
          "base_uri": "https://localhost:8080/"
        },
        "id": "Q1_bkIXk90BV",
        "outputId": "fb3e7451-e25e-4972-ac23-881f4630c01a"
      },
      "execution_count": 28,
      "outputs": [
        {
          "output_type": "execute_result",
          "data": {
            "text/plain": [
              "[0, 113, 114, 128, 129, 227, 242, 242, 257, 355, 356, 370, 371, 484]"
            ]
          },
          "metadata": {},
          "execution_count": 28
        }
      ]
    },
    {
      "cell_type": "code",
      "source": [
        "# p = \"ELNASPMMWGLVGM\"\n",
        "# t = spectrums(p)\n",
        "\n",
        "# for i in range(len(t)):\n",
        "#   if i == len(t)-1:\n",
        "#     print(t[i])\n",
        "#   else:\n",
        "#     print(str(t[i])+' ',end=\"\")"
      ],
      "metadata": {
        "id": "c4xvCVeQFlpD"
      },
      "execution_count": 29,
      "outputs": []
    },
    {
      "cell_type": "markdown",
      "source": [
        "# **BA4D:** Compute the Number of Peptides of Given Total Mass\n",
        "\n",
        "In “Generate the Theoretical Spectrum of a Cyclic Peptide”, we generated the theoretical spectrum of a known cyclic peptide. Although this task is relatively easy, our aim in mass spectrometry is to solve the reverse problem: we must reconstruct an unknown peptide from its experimental spectrum. We will start by assuming that a biologist is lucky enough to generate an ideal experimental spectrum Spectrum, which is one coinciding with the peptide’s theoretical spectrum. Can we reconstruct a peptide whose theoretical spectrum is Spectrum?\n",
        "\n",
        "Denote the total mass of an amino acid string Peptide as Mass(Peptide). In mass spectrometry experiments, whereas the peptide that generated a spectrum is unknown, the peptide’s mass is typically known and is denoted ParentMass(Spectrum). Of course, given an ideal experimental spectrum, Mass(Peptide) is given by the largest mass in the spectrum.\n",
        "\n",
        "A brute force approach to reconstructing a peptide from its theoretical spectrum would generate all possible peptides whose mass is equal to ParentMass(Spectrum) and then check which of these peptides has theoretical spectra matching Spectrum. However, we should be concerned about the running time of such an approach: how many peptides are there having mass equal to ParentMass(Spectrum)?"
      ],
      "metadata": {
        "id": "20YcAC2nHoXF"
      }
    },
    {
      "cell_type": "code",
      "source": [
        "m = [57, 71, 87, 97, 99, 101, 103, 113, 114, 115, 128, 129, 131, 137, 147, 156, 163, 186]\n",
        "\n",
        "def number_of_peptides(val):\n",
        "  dp = [0]*(val+1)\n",
        "  dp[0]=1\n",
        "  for i in range(1,val+1):\n",
        "    c = 0\n",
        "    for n in m:\n",
        "      if i-n>=0:\n",
        "        c+=dp[i-n]\n",
        "    dp[i]=c\n",
        "  return dp[val]\n",
        "\n",
        "number_of_peptides(1400)"
      ],
      "metadata": {
        "colab": {
          "base_uri": "https://localhost:8080/"
        },
        "id": "0nm4T3cqIAZ1",
        "outputId": "4e043dd3-cf27-46a0-9576-1b33c792f597"
      },
      "execution_count": 30,
      "outputs": [
        {
          "output_type": "execute_result",
          "data": {
            "text/plain": [
              "464240419461956"
            ]
          },
          "metadata": {},
          "execution_count": 30
        }
      ]
    },
    {
      "cell_type": "markdown",
      "source": [
        "# **BA4E:** Find a Cyclic Peptide with Theoretical Spectrum Matching an Ideal Spectrum\n",
        "In “Compute the Number of Peptides of Given Total Mass”, we first encountered the problem of reconstructing a cyclic peptide from its theoretical spectrum; this problem is called the Cyclopeptide Sequencing Problem and is given below. It is solved by the following algorithm.\n",
        "\n",
        "\n",
        "```\n",
        "    CYCLOPEPTIDESEQUENCING(Spectrum)\n",
        "        Peptides ← a set containing only the empty peptide\n",
        "        while Peptides is nonempty\n",
        "            Peptides ← Expand(Peptides)\n",
        "            for each peptide Peptide in Peptides\n",
        "                if Mass(Peptide) = ParentMass(Spectrum)\n",
        "                    if Cyclospectrum(Peptide) = Spectrum\n",
        "                        output Peptide\n",
        "                    remove Peptide from Peptides\n",
        "                else if Peptide is not consistent with Spectrum\n",
        "                    remove Peptide from Peptides\n",
        "```\n",
        "\n"
      ],
      "metadata": {
        "id": "Jja_WnbpehqF"
      }
    },
    {
      "cell_type": "code",
      "source": [
        "a = [3]\n",
        "print(a[0:1])"
      ],
      "metadata": {
        "colab": {
          "base_uri": "https://localhost:8080/"
        },
        "id": "gmvanbmemRcm",
        "outputId": "47547411-f22b-448b-bdb5-79d6675f90c6"
      },
      "execution_count": 31,
      "outputs": [
        {
          "output_type": "stream",
          "name": "stdout",
          "text": [
            "[3]\n"
          ]
        }
      ]
    },
    {
      "cell_type": "code",
      "source": [
        "m = [57, 71, 87, 97, 99, 101, 103, 113, 114, 115, 128, 129, 131, 137, 147, 156, 163, 186]\n",
        "\n",
        "def mass(peptide):\n",
        "  return sum(peptide)\n",
        "\n",
        "def expand(peptides):\n",
        "  p = []\n",
        "  for mass in m:\n",
        "    for peptide in peptides:\n",
        "      p.append(peptide+[mass])\n",
        "  return p\n",
        "\n",
        "def cyclo_spectrum(peptide):\n",
        "  a = [0,mass(peptide)]\n",
        "  for i in range(1,len(peptide)):\n",
        "    s = peptide + peptide[:i-1]\n",
        "    c = 0\n",
        "    for j in range(len(peptide)):\n",
        "      t = mass(s[j:i+j])\n",
        "      a.append(t)\n",
        "  a.sort()\n",
        "  return a;\n",
        "\n",
        "def is_consistant(peptide,spectrum):\n",
        "  lis = []\n",
        "  for i in range(len(peptide)):\n",
        "    s = 0\n",
        "    for j in range(i,len(peptide)):\n",
        "      s+=peptide[j]\n",
        "      lis.append(s)\n",
        "\n",
        "  for val in lis:\n",
        "    if val not in spectrum:\n",
        "      return False\n",
        "  return True\n",
        "\n",
        "\n",
        "def cyclo_peptide_sequencing(spectrum):\n",
        "  parent_mass = spectrum[-1]\n",
        "  peptides = [[]]\n",
        "  ans = []\n",
        "  while peptides:\n",
        "    peptides = expand(peptides)\n",
        "    for peptide in peptides:\n",
        "      if mass(peptide)==parent_mass:\n",
        "        x = cyclo_spectrum(peptide)\n",
        "        if x == spectrum:\n",
        "          ans.append(peptide)\n",
        "        peptides = [p for p in peptides if p!=peptide]\n",
        "      elif not is_consistant(peptide,spectrum):\n",
        "        peptides = [ p for p in peptides if p!=peptide]\n",
        "  return ans\n",
        "\n",
        "p = cyclo_peptide_sequencing([0,113,128,186,241,299,314,427])\n",
        "\n",
        "for item in p:\n",
        "  item = [str(val) for val in item ]\n",
        "  print('-'.join(item),end=\" \")"
      ],
      "metadata": {
        "colab": {
          "base_uri": "https://localhost:8080/"
        },
        "id": "blwMMIxZeuZ_",
        "outputId": "9e5387f4-5886-415e-c7ed-169d3b0e3053"
      },
      "execution_count": 32,
      "outputs": [
        {
          "output_type": "stream",
          "name": "stdout",
          "text": [
            "186-128-113 128-186-113 186-113-128 113-186-128 128-113-186 113-128-186 "
          ]
        }
      ]
    },
    {
      "cell_type": "code",
      "source": [
        "# t = []\n",
        "# with open('index.txt','r') as f:\n",
        "#   line = f.read()\n",
        "#   s = line.strip().split()\n",
        "#   s = [int(val) for val in s]\n",
        "#   t = cyclo_peptide_sequencing(s)\n",
        "\n",
        "# for item in t:\n",
        "#   item = [str(val) for val in item ]\n",
        "#   print('-'.join(item),end=\" \")"
      ],
      "metadata": {
        "id": "nKbCTUICrlyP"
      },
      "execution_count": 33,
      "outputs": []
    },
    {
      "cell_type": "markdown",
      "source": [
        "# **BA4F:** Compute the Score of a Cyclic Peptide Against a Spectrum\n",
        "\n",
        "To generalize the Cyclopeptide Sequencing Problem from “Find a Cyclic Peptide with Theoretical Spectrum Matching an Ideal Spectrum” to handle noisy spectra, we need to relax the requirement that a candidate peptide’s theoretical spectrum must match the experimental spectrum exactly, and instead incorporate a scoring function that will select the peptide whose theoretical spectrum matches the given experimental spectrum the most closely. Given a cyclic peptide Peptide and a spectrum Spectrum, we define Score(Peptide, Spectrum) as the number of masses shared between Cyclospectrum(Peptide) and Spectrum. Recalling our example above, if\n",
        "\n",
        ">Spectrum = {0, 99, 113, 114, 128, 227, 257, 299, 355, 356, 370, 371, 484},\n",
        "then Score(NQEL, Spectrum) = 11.\n",
        "\n",
        "The scoring function should take into account the multiplicities of shared masses, i.e., how many times they occur in each spectrum. For example, suppose that Spectrum is the theoretical spectrum of NQEL; for this spectrum, mass 242 has multiplicity 2. If 242 has multiplicity 1 in the theoretical spectrum of Peptide, then 242 contributes 1 to Score(Peptide, Spectrum). If 242 has larger multiplicity in the theoretical spectrum of Peptide, then 242 contributes 2 to Score(Peptide, Spectrum)."
      ],
      "metadata": {
        "id": "th6G8vKZ-QL5"
      }
    },
    {
      "cell_type": "code",
      "source": [
        "#compare experimental spectrum with theoritical spectrum\n",
        "\n",
        "m = {\n",
        "    'G':57,\n",
        "    'A':71,\n",
        "    'S':87,\n",
        "    'P':97,\n",
        "    'V':99,\n",
        "    'T':101,\n",
        "    'C':103,\n",
        "    'I':113,\n",
        "    'L':113,\n",
        "    'N':114,\n",
        "    'D':115,\n",
        "    'K':128,\n",
        "    'Q':128,\n",
        "    'E':129,\n",
        "    'M':131,\n",
        "    'H':137,\n",
        "    'F':147,\n",
        "    'R':156,\n",
        "    'Y':163,\n",
        "    'W':186\n",
        "}\n",
        "\n",
        "def t_mass(peptide):\n",
        "  c = 0\n",
        "  for i in range(len(peptide)):\n",
        "    c+=m[peptide[i]]\n",
        "  return c\n",
        "\n",
        "def get_theoritical_spectrum(peptide):\n",
        "  masses = [0,t_mass(peptide)]\n",
        "  for i in range(1,len(peptide)):\n",
        "    s = peptide + peptide[:i-1]\n",
        "    for j in range(len(peptide)):\n",
        "      sub_peptide = s[j:j+i]\n",
        "      # print(sub_peptide)\n",
        "      mass = t_mass(sub_peptide)\n",
        "      masses.append(mass)\n",
        "  return sorted(masses)\n",
        "\n",
        "\n",
        "def score_calculate(peptide,e_spectrum):\n",
        "  s = get_theoritical_spectrum(peptide)\n",
        "  c = 0\n",
        "  for item in s:\n",
        "    t_count = s.count(item)\n",
        "    e_count = e_spectrum.count(item)\n",
        "    c+= min(t_count,e_count)\n",
        "  return c\n",
        "\n",
        "\n",
        "peptide = \"NQEL\"\n",
        "e_spectrum = [0,99,113,114,128,227,257,299,355,356,370,371,484]\n",
        "\n",
        "score_calculate(peptide,e_spectrum)"
      ],
      "metadata": {
        "id": "2EnFXoCM-gcJ",
        "colab": {
          "base_uri": "https://localhost:8080/"
        },
        "outputId": "da93ca72-3c56-47b4-895b-b4c098e46f0f"
      },
      "execution_count": 34,
      "outputs": [
        {
          "output_type": "execute_result",
          "data": {
            "text/plain": [
              "11"
            ]
          },
          "metadata": {},
          "execution_count": 34
        }
      ]
    },
    {
      "cell_type": "code",
      "source": [
        "# t = 0\n",
        "# with open('in1.txt','r') as f:\n",
        "#   line = f.read()\n",
        "#   s = line.strip().split()\n",
        "#   s = [ int(a) for a in s]\n",
        "#   t = score_calculate('FVNMIGFFWYTRYCGSFFTGLMYWETKIDWSEPCCVYCWSKHS',s)\n",
        "#   print(t)"
      ],
      "metadata": {
        "id": "ohoV1ak9JJov"
      },
      "execution_count": 35,
      "outputs": []
    },
    {
      "cell_type": "markdown",
      "source": [
        "# **BA4H:** Generate the Convolution of a Spectrum\n",
        "\n",
        "We define the convolution of a cyclic spectrum by taking all positive differences of masses in the spectrum. Figure 1 shows the convolution of the theoretical spectrum of \"NQEL\".\n",
        "\n",
        "As predicted, some of the values in Figure 2.12 appear more frequently than others. For example, 113 (the mass of \"L\") appears eight times in the convolution of the theoretical spectrum of \"NQEL\"; we say that 113 has multiplicity 8. Six of the eight occurrences of 113 correspond to subpeptide pairs differing in an \"L\": \"L\" and \"\"; \"LN\" and \"N\"; \"EL\" and \"E\"; \"LNQ\" and \"NQ\"; \"QEL\" and \"QE\"; \"NQEL\" and \"NQE\"."
      ],
      "metadata": {
        "id": "VR7vc3BsHcRu"
      }
    },
    {
      "cell_type": "code",
      "source": [
        "# def custom_sort(item):\n",
        "#   return(-item[0],item[1])\n",
        "\n",
        "def convolution(spectrum):\n",
        "  spectrum.sort()\n",
        "  diff = {}\n",
        "  for i in range(len(spectrum)-1):\n",
        "    for j in range(i+1,len(spectrum)):\n",
        "      t = spectrum[j]-spectrum[i]\n",
        "      if t>0:\n",
        "        if t in diff:\n",
        "          diff[t]+=1\n",
        "        else:\n",
        "          diff[t]=1\n",
        "  arr = []\n",
        "  for key,v in diff.items():\n",
        "    arr.append([v,key])\n",
        "  arr.sort(reverse = True)\n",
        "  conv = []\n",
        "  for item in arr:\n",
        "    for j in range(item[0]):\n",
        "      conv.append(item[1])\n",
        "  return conv\n",
        "\n",
        "spectrums = [0,137,186,323]\n",
        "convolution(spectrums)"
      ],
      "metadata": {
        "colab": {
          "base_uri": "https://localhost:8080/"
        },
        "id": "_CTL3BJPHj8z",
        "outputId": "e33195e0-4e08-4b8b-89c4-893bb5b49615"
      },
      "execution_count": 36,
      "outputs": [
        {
          "output_type": "execute_result",
          "data": {
            "text/plain": [
              "[186, 186, 137, 137, 323, 49]"
            ]
          },
          "metadata": {},
          "execution_count": 36
        }
      ]
    },
    {
      "cell_type": "code",
      "source": [
        "# t = []\n",
        "# with open('in.txt','r') as f:\n",
        "#   line = f.read()\n",
        "#   s = line.strip().split()\n",
        "#   s = [ int(a) for a in s]\n",
        "#   t = convolution(s)\n",
        "\n",
        "# for x in t:\n",
        "#   print(x,end=\" \")\n",
        "\n"
      ],
      "metadata": {
        "id": "CcHDPgawNh_R"
      },
      "execution_count": 37,
      "outputs": []
    }
  ]
}