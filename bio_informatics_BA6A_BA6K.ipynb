{
  "nbformat": 4,
  "nbformat_minor": 0,
  "metadata": {
    "colab": {
      "provenance": []
    },
    "kernelspec": {
      "name": "python3",
      "display_name": "Python 3"
    },
    "language_info": {
      "name": "python"
    }
  },
  "cells": [
    {
      "cell_type": "markdown",
      "source": [
        "# **BA6A:** Implement GreedySorting to Sort a Permutation by Reversals\n",
        "\n",
        "Implement GreedySorting"
      ],
      "metadata": {
        "id": "6F9gL2VRbUhJ"
      }
    },
    {
      "cell_type": "code",
      "execution_count": null,
      "metadata": {
        "colab": {
          "base_uri": "https://localhost:8080/"
        },
        "id": "U8Fk6xQ1ZUdM",
        "outputId": "9bb54aef-b637-43e7-c837-40b32df9e91c"
      },
      "outputs": [
        {
          "output_type": "execute_result",
          "data": {
            "text/plain": [
              "[[-1, -4, 3, 5, -2],\n",
              " [1, -4, 3, 5, -2],\n",
              " [1, 2, -5, -3, 4],\n",
              " [1, 2, 3, 5, 4],\n",
              " [1, 2, 3, -4, -5],\n",
              " [1, 2, 3, 4, -5],\n",
              " [1, 2, 3, 4, 5]]"
            ]
          },
          "metadata": {},
          "execution_count": 2
        }
      ],
      "source": [
        "def permutation(x):\n",
        "  ans = []\n",
        "  for i in range(len(x)):\n",
        "    t = i+1\n",
        "    if abs(x[i])==t:\n",
        "      if x[i]<0:\n",
        "        x[i] = t\n",
        "        ans.append(x.copy())\n",
        "    elif x[i]!=t:\n",
        "      for j in range(i+1,len(x)):\n",
        "        if abs(x[j])==t:\n",
        "          temp = x[i:j+1]\n",
        "          temp = temp[::-1]\n",
        "          temp = [-1*p for p in temp]\n",
        "          x[i:j+1]=temp\n",
        "          ans.append(x.copy())\n",
        "          break\n",
        "      if x[i]<0:\n",
        "        x[i]=-1*x[i]\n",
        "        ans.append(x.copy())\n",
        "  return ans\n",
        "\n",
        "\n",
        "x = [-3, 4,1,5,-2]\n",
        "permutation(x)\n"
      ]
    },
    {
      "cell_type": "markdown",
      "source": [
        "# **BA6B:** Compute the Number of Breakpoints in a Permutation\n",
        "Find the number of breakpoints in a permutation."
      ],
      "metadata": {
        "id": "30-nkpmMoPkI"
      }
    },
    {
      "cell_type": "code",
      "source": [
        "def computeBreakPoints(x):\n",
        "  c=0\n",
        "  if x[0]!=1:\n",
        "    c+=1\n",
        "  if x[len(x)-1]!=len(x):\n",
        "    c+=1\n",
        "  for i in range(len(x)-1):\n",
        "    if x[i]+1!=x[i+1]:\n",
        "      c+=1\n",
        "  return c\n",
        "\n",
        "x = [3, 4, 5, -12, -8, -7, -6, 1, 2, 10, 9, -11, 13, 14]\n",
        "\n",
        "computeBreakPoints(x)\n"
      ],
      "metadata": {
        "colab": {
          "base_uri": "https://localhost:8080/"
        },
        "id": "81dMwkfUoKjK",
        "outputId": "c4f20c58-56d7-405e-9ca1-0d7065e86571"
      },
      "execution_count": null,
      "outputs": [
        {
          "output_type": "execute_result",
          "data": {
            "text/plain": [
              "8"
            ]
          },
          "metadata": {},
          "execution_count": 3
        }
      ]
    },
    {
      "cell_type": "markdown",
      "source": [
        "# **BA6E:** Find All Shared k-mers of a Pair of Strings\n",
        "\n",
        "We say that a k-mer is shared by two genomes if either the k-mer or its reverse complement appears in each genome. In Figure 1 are four pairs of 3-mers that are shared by \"AAACTCATC\" and \"TTTCAAATC\".\n",
        "\n",
        "A shared k-mer can be represented by an ordered pair (x, y), where x is the starting position of the k-mer in the first genome and y is the starting position of the k-mer in the second genome. For the genomes \"AAACTCATC\" and \"TTTCAAATC\", these shared k-mers are (0,4), (0,0), (4,2), and (6,6)."
      ],
      "metadata": {
        "id": "_DylT8FdBinX"
      }
    },
    {
      "cell_type": "code",
      "source": [
        "!pip install biopython"
      ],
      "metadata": {
        "colab": {
          "base_uri": "https://localhost:8080/"
        },
        "id": "7bM5wynJG0hk",
        "outputId": "50a2c101-bf7e-461a-a290-4158c6f08fba"
      },
      "execution_count": null,
      "outputs": [
        {
          "output_type": "stream",
          "name": "stdout",
          "text": [
            "Collecting biopython\n",
            "  Downloading biopython-1.81-cp310-cp310-manylinux_2_17_x86_64.manylinux2014_x86_64.whl (3.1 MB)\n",
            "\u001b[2K     \u001b[90m━━━━━━━━━━━━━━━━━━━━━━━━━━━━━━━━━━━━━━━━\u001b[0m \u001b[32m3.1/3.1 MB\u001b[0m \u001b[31m22.9 MB/s\u001b[0m eta \u001b[36m0:00:00\u001b[0m\n",
            "\u001b[?25hRequirement already satisfied: numpy in /usr/local/lib/python3.10/dist-packages (from biopython) (1.23.5)\n",
            "Installing collected packages: biopython\n",
            "Successfully installed biopython-1.81\n"
          ]
        }
      ]
    },
    {
      "cell_type": "code",
      "source": [
        "\n",
        "from itertools import product\n",
        "from Bio.Seq import Seq\n",
        "\n",
        "def shared_kmers(k,a,b):\n",
        "  ans = []\n",
        "  for i in range(len(a)-k+1):\n",
        "    for j in range(len(b)-k+1):\n",
        "      s = Seq(a[i:i+k])\n",
        "      sr = Seq(a[i:i+k]).reverse_complement()\n",
        "      t = Seq(b[j:j+k])\n",
        "      if s==t:\n",
        "        ans.append((i,j))\n",
        "      if sr==t:\n",
        "        ans.append((i,j))\n",
        "  return ans\n",
        "\n",
        "\n",
        "\n",
        "a = \"AAACTCATC\"\n",
        "b = \"TTTCAAATC\"\n",
        "k = 3\n",
        "shared_kmers(3,a,b)"
      ],
      "metadata": {
        "colab": {
          "base_uri": "https://localhost:8080/"
        },
        "id": "vSGV8X3NBpDc",
        "outputId": "2f0623c2-532f-4eb9-ae38-0154a507b485"
      },
      "execution_count": null,
      "outputs": [
        {
          "output_type": "execute_result",
          "data": {
            "text/plain": [
              "[(0, 0), (0, 4), (4, 2), (6, 6)]"
            ]
          },
          "metadata": {},
          "execution_count": 5
        }
      ]
    },
    {
      "cell_type": "markdown",
      "source": [
        "# **BA6F:** Implement ChromosomeToCycle\n",
        "The following pseudocode bypasses the intermediate step of assigning “head” and “tail” nodes in order to transform a single circular chromosome Chromosome = (Chromosome1, . . . , Chromosomen) into a cycle represented as a sequence of integers Nodes = (Nodes1, . . . , Nodes2n).\n",
        "\n",
        "```\n",
        "ChromosomeToCycle(Chromosome)\n",
        "     for j ← 1 to |Chromosome|\n",
        "          i ← Chromosomej\n",
        "          if i > 0\n",
        "               Node2j−1 ←2i−1\n",
        "               Node2j ← 2i\n",
        "          else\n",
        "               Node2j−1 ← -2i\n",
        "               Node2j ←-2i−1\n",
        "     return Nodes\n",
        "```\n",
        "\n"
      ],
      "metadata": {
        "id": "Xa_Dlv-9i4q7"
      }
    },
    {
      "cell_type": "code",
      "source": [
        "def ChoromosomeToCycle(chromosome):\n",
        "  nodes = [0]*(2*len(chromosome)+1)\n",
        "  for j in range(1,len(chromosome)+1):\n",
        "    i = chromosome[j-1]\n",
        "    if i>0:\n",
        "      nodes[2*j-1] = 2*i-1\n",
        "      nodes[2*j] = 2*i\n",
        "    else:\n",
        "      nodes[2*j-1] = -2*i\n",
        "      nodes[2*j] = -2*i-1\n",
        "  return nodes[1:]\n",
        "\n",
        "ChoromosomeToCycle([+1,-2,-3,+4])\n",
        "\n"
      ],
      "metadata": {
        "colab": {
          "base_uri": "https://localhost:8080/"
        },
        "id": "WkIac_mvjJBO",
        "outputId": "cc164dc6-0587-4f39-abd5-4a74dd2d232c"
      },
      "execution_count": null,
      "outputs": [
        {
          "output_type": "execute_result",
          "data": {
            "text/plain": [
              "[1, 2, 4, 3, 6, 5, 7, 8]"
            ]
          },
          "metadata": {},
          "execution_count": 11
        }
      ]
    },
    {
      "cell_type": "markdown",
      "source": [
        "# **BA6G:** Implement CycleToChromosome\n",
        "\n",
        "The process described in “Implement ChromosomeToCycle” is in fact invertible, as described by the following pseudocode.\n",
        "\n",
        "\n",
        "\n",
        "```\n",
        "CycleToChromosome(Nodes)\n",
        "     for j ← 1 to |Nodes|/2\n",
        "          if Node2j−1 < Node2j\n",
        "               Chromosomej ← Node2j /2\n",
        "          else\n",
        "               Chromosomej ← −Node2j−1/2\n",
        "     return Chromosome\n",
        "```\n",
        "\n"
      ],
      "metadata": {
        "id": "1mgnlwjypi9K"
      }
    },
    {
      "cell_type": "code",
      "source": [
        "def CycleToChromosome(Nodes):\n",
        "  Nodes = [-1] + Nodes\n",
        "  n = len(Nodes)-1\n",
        "  m = n//2\n",
        "  chromosome = [0]*(m+1)\n",
        "  for j in range(1,m+1):\n",
        "    if Nodes[2*j-1]<Nodes[2*j]:\n",
        "      chromosome[j] = Nodes[2*j]//2\n",
        "    else:\n",
        "      chromosome[j] = -Nodes[2*j-1]//2\n",
        "  return chromosome[1:]\n",
        "\n",
        "CycleToChromosome([1, 2, 4, 3, 6, 5, 7, 8])\n"
      ],
      "metadata": {
        "colab": {
          "base_uri": "https://localhost:8080/"
        },
        "id": "1t2rpeJVp4KF",
        "outputId": "d3911fef-f7d6-4ee2-bd80-3a0769160b9d"
      },
      "execution_count": null,
      "outputs": [
        {
          "output_type": "execute_result",
          "data": {
            "text/plain": [
              "[1, -2, -3, 4]"
            ]
          },
          "metadata": {},
          "execution_count": 36
        }
      ]
    },
    {
      "cell_type": "markdown",
      "source": [
        "# **BA6H:** Implement ColoredEdges\n",
        "\n",
        "The following algorithm constructs ColoredEdges(P) for a genome P. In this pseudocode, we will assume that an n-element array (a1, . . . , an) has an invisible (n + 1)-th element that is equal to its first element, i.e., an+1 = a1.\n",
        "\n",
        "```\n",
        "ColoredEdges(P)\n",
        "     Edges ← an empty set\n",
        "     for each chromosome Chromosome in P\n",
        "          Nodes ← ChromosomeToCycle(Chromosome)\n",
        "          for j ← 1 to |Chromosome|\n",
        "               add the edge (Nodes2j, Nodes2j +1) to Edges\n",
        "     return Edges\n",
        "```\n",
        "\n"
      ],
      "metadata": {
        "id": "-us8giRBuAxq"
      }
    },
    {
      "cell_type": "code",
      "source": [
        "def ColoredEdges(P):\n",
        "  edges = []\n",
        "  for chromosome in P:\n",
        "    nodes = ChoromosomeToCycle(chromosome)\n",
        "    nodes = [-11] + nodes +[nodes[0]]\n",
        "    for j in range(1,len(chromosome)+1):\n",
        "      edges.append((nodes[2*j],nodes[2*j+1]))\n",
        "\n",
        "  return edges\n",
        "\n",
        "ColoredEdges([[1,-2,-3],[4,5,-6]])\n"
      ],
      "metadata": {
        "colab": {
          "base_uri": "https://localhost:8080/"
        },
        "id": "xNe5pAWIurFz",
        "outputId": "a592e8bc-7756-4ed6-f03b-856da285e921"
      },
      "execution_count": null,
      "outputs": [
        {
          "output_type": "execute_result",
          "data": {
            "text/plain": [
              "[(2, 4), (3, 6), (5, 1), (8, 9), (10, 12), (11, 7)]"
            ]
          },
          "metadata": {},
          "execution_count": 44
        }
      ]
    },
    {
      "cell_type": "markdown",
      "source": [
        "# **BA6J:** Implement 2-BreakOnGenomeGraph\n",
        "\n",
        "We will use 2-Break(1, 6, 3, 8) two denote the 2-break replacing colored edges (1, 6) and (3, 8) in a genome graph with two new colored edges (1, 3) and (6, 8). Note that the order of the nodes in this function matter, since the operation 2-Break(1, 6, 8, 3) would represent a different 2-break that replaces (1, 6) and (3, 8) with (1, 8) and (6, 3).\n",
        "\n",
        "The following pseudocode describes how 2-Break(i, i′, j, j′) transforms a genome graph.\n",
        "\n",
        "\n",
        "\n",
        "```\n",
        "2-BreakOnGenomeGraph(GenomeGraph, i, i′, j, j′)\n",
        "     remove colored edges (i, i') and (j, j′) from GenomeGraph\n",
        "     add colored edges (i, j) and (i′, j') to GenomeGraph\n",
        "     return GenomeGraph\n",
        "```\n",
        "\n"
      ],
      "metadata": {
        "id": "YZjA_T09-Hf4"
      }
    },
    {
      "cell_type": "code",
      "source": [
        "def breakOnGraph(graph,i,i_,j,j_):\n",
        "  if [i,i_] in graph:\n",
        "    graph.remove([i,i_])\n",
        "  else:\n",
        "    graph.remove([i_,i])\n",
        "  if [j,j_] in graph:\n",
        "    graph.remove([j,j_])\n",
        "  else:\n",
        "    graph.remove([j_,j])\n",
        "\n",
        "  graph.append([i,j])\n",
        "  graph.append([i_,j_])\n",
        "  return graph\n",
        "\n",
        "graph = [[2,4],[3,8],[7,5],[6,1]]\n",
        "breakOnGraph(graph,1,6,3,8)"
      ],
      "metadata": {
        "colab": {
          "base_uri": "https://localhost:8080/"
        },
        "id": "fgL-t3a3-RVl",
        "outputId": "6d14087c-1086-49d0-9004-500355a5d42e"
      },
      "execution_count": null,
      "outputs": [
        {
          "output_type": "execute_result",
          "data": {
            "text/plain": [
              "[[2, 4], [7, 5], [1, 3], [6, 8]]"
            ]
          },
          "metadata": {},
          "execution_count": 45
        }
      ]
    }
  ]
}